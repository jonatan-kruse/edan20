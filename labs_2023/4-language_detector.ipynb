{
 "cells": [
  {
   "cell_type": "markdown",
   "metadata": {},
   "source": [
    "# Assignment #3: A simple language classifier with scikit-learn and PyTorch"
   ]
  },
  {
   "cell_type": "markdown",
   "metadata": {},
   "source": [
    "Author: Pierre Nugues"
   ]
  },
  {
   "cell_type": "markdown",
   "metadata": {},
   "source": [
    "## Objectives"
   ]
  },
  {
   "cell_type": "markdown",
   "metadata": {},
   "source": [
    "In this assignment, you will implement a language detector inspired and simplified from Google's _Compact language detector_, version 3 (CLD3): https://github.com/google/cld3. CLD3 is written in C++ and its code is available from GitHub. The objectives of the assignment are to:\n",
    "* Write a program to classify languages\n",
    "* Use neural networks with sklearn and PyTorch\n",
    "* Know what a classifier is\n",
    "* Write a short report of 1 to 2 pages to describe your program. You will notably comment the performance you obtained and how you could improve it."
   ]
  },
  {
   "cell_type": "markdown",
   "metadata": {},
   "source": [
    "## Description"
   ]
  },
  {
   "cell_type": "markdown",
   "metadata": {},
   "source": [
    "### System Overview"
   ]
  },
  {
   "cell_type": "markdown",
   "metadata": {},
   "source": [
    "Read the GitHub description of CLD3, https://github.com/google/cld3, (_Model_ section). In your individual report you will:\n",
    "1. Summarize the system in two or three sentences;\n",
    "2. Outline the CLD3 overall architecture in a figure. Use building blocks only and do not specify the parameters."
   ]
  },
  {
   "cell_type": "markdown",
   "metadata": {},
   "source": [
    "## Imports"
   ]
  },
  {
   "cell_type": "code",
   "execution_count": 1,
   "metadata": {},
   "outputs": [],
   "source": [
    "import bz2\n",
    "import json\n",
    "import os\n",
    "import numpy as np\n",
    "import requests\n",
    "import sys\n",
    "from sklearn.neural_network import MLPClassifier\n",
    "from sklearn.feature_extraction import DictVectorizer\n",
    "from sklearn.metrics import accuracy_score\n",
    "from sklearn.metrics import f1_score, classification_report\n",
    "from sklearn.metrics import confusion_matrix\n",
    "import random\n",
    "import torch\n",
    "import torch.nn as nn\n",
    "import torch.nn.functional as F\n",
    "import hashlib\n",
    "from tqdm import tqdm\n",
    "import pickle\n"
   ]
  },
  {
   "cell_type": "code",
   "execution_count": 2,
   "metadata": {},
   "outputs": [
    {
     "data": {
      "text/plain": [
       "<torch._C.Generator at 0x7ff762d9e530>"
      ]
     },
     "execution_count": 2,
     "metadata": {},
     "output_type": "execute_result"
    }
   ],
   "source": [
    "random.seed(1234)\n",
    "np.random.seed(1234)\n",
    "torch.manual_seed(1234)"
   ]
  },
  {
   "cell_type": "markdown",
   "metadata": {},
   "source": [
    "## Dataset"
   ]
  },
  {
   "cell_type": "markdown",
   "metadata": {},
   "source": [
    "As dataset, we will use Tatoeba, https://tatoeba.org/eng/downloads. It consists of more than 8 million short texts in 347 languages and it is available in one file called `sentences.csv`.\n",
    "\n",
    "The dataset is structured this way: There is one text per line, where each line consists of the three following fields separated by tabulations and ended by a carriage return:\n",
    "```\n",
    "sentence id [tab] language code [tab] text [cr]\n",
    "```\n",
    "Each text (sentence) has a unique id and has a language code that follows the ISO 639-3 standard (see below). "
   ]
  },
  {
   "cell_type": "markdown",
   "metadata": {},
   "source": [
    "### Scope of the lab"
   ]
  },
  {
   "cell_type": "markdown",
   "metadata": {},
   "source": [
    "In this lab, you will consider six languages only: French (fra), Japanese (jpn), Chinese (cmn), English (eng), Swedish (swe), and Danish (dan). Below is an excerpt of the Tatoeba dataset limited to three languages: \n",
    "\n",
    "```\n",
    "1276    eng     Let's try something.\n",
    "1277    eng     I have to go to sleep.\n",
    "1280    eng     Today is June 18th and it is Muiriel's birthday!\n",
    "...\n",
    "1115    fra     Lorsqu'il a demandé qui avait cassé la fenêtre, tous les garçons ont pris un air innocent.\n",
    "1279    fra     Je ne supporte pas ce type.\n",
    "1441    fra     Pour une fois dans ma vie je fais un bon geste... Et ça ne sert à rien.\n",
    "...\n",
    "337413  swe     Vi trodde att det var ett flygande tefat.\n",
    "341910  swe     Detta är huset jag bodde i när jag var barn.\n",
    "341938  swe     Vi hade roligt på stranden igår.\n",
    "...\n",
    "```\n",
    "Tatoeba is updated continuously. The examples from this dataset come from a corpus your instructor downloaded on September 23, 2021."
   ]
  },
  {
   "cell_type": "markdown",
   "metadata": {},
   "source": [
    "### Understanding the ${X}$ matrix (feature matrix)"
   ]
  },
  {
   "cell_type": "markdown",
   "metadata": {},
   "source": [
    "You will now investigate the CLD3 features:\n",
    " *  What are the features CLD3 extracts from each text?\n",
    " * Create manually a simplified ${X}$ matrix where you will represent the 9 texts with CLD3 features. You will use a restricted set of features: You will only consider the letters _a_, _b_, and _n_ and the bigrams _an_, _ba_, and _na_. You will ignore the the rest of letters and bigrams as well as the trigrams. Your matrix will have 9 rows and 6 columns, each column will contain these counts: `[#a, #b, #n, #an, #ba, #na]`.\n",
    "\n",
    "The CLD3's original description uses relative frequencies (counts of a letter divided by the total counts of letters in the text). Here, you will use the raw counts. To help you, your instructor filled the fourth row of the matrix corresponding to the first text in French. Fill in the rest. You will __include this matrix in your report__. "
   ]
  },
  {
   "cell_type": "markdown",
   "metadata": {},
   "source": [
    "$\\mathbf{X} =\n",
    "\\begin{bmatrix}\n",
    "-& -& -& -&-& -\\\\\n",
    "-& -& -& -&-& -\\\\\n",
    "-& -& -& -&-& -\\\\\n",
    "8& 0& 8& 1&0&0\\\\\n",
    "-& -& -& -&-& -\\\\\n",
    "-& -& -& -&-& -\\\\\n",
    "-& -& -& -&-& -\\\\\n",
    "-& -& -& -&-& -\\\\\n",
    "-& -& -& -&-& -\\\\\n",
    "\\end{bmatrix}$\n",
    "; $\\mathbf{y} =\n",
    "\\begin{bmatrix}\n",
    "     \\text{eng} \\\\\n",
    "     \\text{eng}\\\\\n",
    "     \\text{eng}\\\\\n",
    "    \\text{fra}\\\\\n",
    "   \\text{fra}  \\\\\n",
    "     \\text{fra}\\\\\n",
    "    \\text{swe}\\\\\n",
    " \\text{swe}   \\\\\n",
    " \\text{swe}   \n",
    "\\end{bmatrix}$"
   ]
  },
  {
   "cell_type": "markdown",
   "metadata": {},
   "source": [
    "To help you check your counts, you can use the `str.count()` function"
   ]
  },
  {
   "cell_type": "code",
   "execution_count": 3,
   "metadata": {},
   "outputs": [],
   "source": [
    "example_ngrams = ['a', 'b', 'n', 'an', 'ba', 'na']"
   ]
  },
  {
   "cell_type": "code",
   "execution_count": 4,
   "metadata": {},
   "outputs": [
    {
     "data": {
      "text/plain": [
       "8"
      ]
     },
     "execution_count": 4,
     "metadata": {},
     "output_type": "execute_result"
    }
   ],
   "source": [
    "\"\"\"Lorsqu'il a demandé qui avait cassé la fenêtre, tous les garçons ont pris un air innocent.\"\"\".count('a')"
   ]
  },
  {
   "cell_type": "code",
   "execution_count": 5,
   "metadata": {},
   "outputs": [
    {
     "data": {
      "text/plain": [
       "1"
      ]
     },
     "execution_count": 5,
     "metadata": {},
     "output_type": "execute_result"
    }
   ],
   "source": [
    "\"\"\"Lorsqu'il a demandé qui avait cassé la fenêtre, tous les garçons ont pris un air innocent.\"\"\".count('an')"
   ]
  },
  {
   "cell_type": "code",
   "execution_count": 6,
   "metadata": {},
   "outputs": [
    {
     "data": {
      "text/plain": [
       "[8, 0, 8, 1, 0, 0]"
      ]
     },
     "execution_count": 6,
     "metadata": {},
     "output_type": "execute_result"
    }
   ],
   "source": [
    "my_string = \"\"\"Lorsqu'il a demandé qui avait cassé la fenêtre, tous les garçons ont pris un air innocent.\"\"\"\n",
    "row = []\n",
    "for ngram in example_ngrams:\n",
    "    row += [my_string.count(ngram)]\n",
    "row"
   ]
  },
  {
   "cell_type": "markdown",
   "metadata": {},
   "source": [
    "## Getting the Dataset"
   ]
  },
  {
   "cell_type": "markdown",
   "metadata": {},
   "source": [
    "Before you start programming, download the Tatoeba dataset. You can use the instructions:"
   ]
  },
  {
   "cell_type": "code",
   "execution_count": 7,
   "metadata": {},
   "outputs": [
    {
     "name": "stdout",
     "output_type": "stream",
     "text": [
      "--2023-09-25 13:39:00--  https://downloads.tatoeba.org/exports/sentences.tar.bz2\n",
      "Resolving downloads.tatoeba.org (downloads.tatoeba.org)... 94.130.77.194\n",
      "Connecting to downloads.tatoeba.org (downloads.tatoeba.org)|94.130.77.194|:443... connected.\n",
      "HTTP request sent, awaiting response... 200 OK\n",
      "Length: 183539203 (175M) [application/octet-stream]\n",
      "Saving to: ‘sentences.tar.bz2’\n",
      "\n",
      "sentences.tar.bz2     3%[                    ]   5.80M  14.5MB/s               "
     ]
    },
    {
     "name": "stdout",
     "output_type": "stream",
     "text": [
      "sentences.tar.bz2   100%[===================>] 175.04M  23.6MB/s    in 7.6s    \n",
      "\n",
      "2023-09-25 13:39:08 (23.1 MB/s) - ‘sentences.tar.bz2’ saved [183539203/183539203]\n",
      "\n"
     ]
    }
   ],
   "source": [
    "!wget https://downloads.tatoeba.org/exports/sentences.tar.bz2"
   ]
  },
  {
   "cell_type": "code",
   "execution_count": 8,
   "metadata": {},
   "outputs": [
    {
     "name": "stdout",
     "output_type": "stream",
     "text": [
      "sentences.csv\n"
     ]
    }
   ],
   "source": [
    "!tar -xvjf sentences.tar.bz2"
   ]
  },
  {
   "cell_type": "markdown",
   "metadata": {},
   "source": [
    "### Loading the Dataset"
   ]
  },
  {
   "cell_type": "markdown",
   "metadata": {},
   "source": [
    "Run the code to read the dataset and split it into lines. You may have to change the path"
   ]
  },
  {
   "cell_type": "code",
   "execution_count": 9,
   "metadata": {},
   "outputs": [
    {
     "data": {
      "text/plain": [
       "['1\\tcmn\\t我們試試看！',\n",
       " '2\\tcmn\\t我该去睡觉了。',\n",
       " '3\\tcmn\\t你在干什麼啊？',\n",
       " '4\\tcmn\\t這是什麼啊？',\n",
       " '5\\tcmn\\t今天是６月１８号，也是Muiriel的生日！',\n",
       " '6\\tcmn\\t生日快乐，Muiriel！',\n",
       " '7\\tcmn\\tMuiriel现在20岁了。',\n",
       " '8\\tcmn\\t密码是\"Muiriel\"。',\n",
       " '9\\tcmn\\t我很快就會回來。',\n",
       " '10\\tcmn\\t我不知道。']"
      ]
     },
     "execution_count": 9,
     "metadata": {},
     "output_type": "execute_result"
    }
   ],
   "source": [
    "dataset_large = open('sentences.csv', encoding='utf8').read().strip()\n",
    "dataset_large = dataset_large.split('\\n')\n",
    "dataset_large[:10]"
   ]
  },
  {
   "cell_type": "markdown",
   "metadata": {},
   "source": [
    "The size may vary as new documents are added every day to _Tatoeba_"
   ]
  },
  {
   "cell_type": "code",
   "execution_count": 10,
   "metadata": {},
   "outputs": [
    {
     "data": {
      "text/plain": [
       "11626127"
      ]
     },
     "execution_count": 10,
     "metadata": {},
     "output_type": "execute_result"
    }
   ],
   "source": [
    "len(dataset_large)"
   ]
  },
  {
   "cell_type": "markdown",
   "metadata": {},
   "source": [
    "Run the code to split the fields and remove possible whitespaces"
   ]
  },
  {
   "cell_type": "code",
   "execution_count": 11,
   "metadata": {},
   "outputs": [
    {
     "data": {
      "text/plain": [
       "[('1', 'cmn', '我們試試看！'), ('2', 'cmn', '我该去睡觉了。'), ('3', 'cmn', '你在干什麼啊？')]"
      ]
     },
     "execution_count": 11,
     "metadata": {},
     "output_type": "execute_result"
    }
   ],
   "source": [
    "dataset_large = list(map(lambda x: tuple(x.split('\\t')), dataset_large))\n",
    "dataset_large = list(map(lambda x: tuple(map(str.strip, x)), dataset_large))\n",
    "dataset_large[:3]"
   ]
  },
  {
   "cell_type": "code",
   "execution_count": 12,
   "metadata": {},
   "outputs": [],
   "source": [
    "from collections import Counter\n",
    "counter = Counter(map(lambda x: x[1], dataset_large))"
   ]
  },
  {
   "cell_type": "markdown",
   "metadata": {},
   "source": [
    "Again the figures may vary"
   ]
  },
  {
   "cell_type": "code",
   "execution_count": 13,
   "metadata": {},
   "outputs": [
    {
     "data": {
      "text/plain": [
       "[('eng', 1832557),\n",
       " ('rus', 1015379),\n",
       " ('ita', 863210),\n",
       " ('tur', 729325),\n",
       " ('epo', 728733),\n",
       " ('kab', 686765),\n",
       " ('ber', 650115),\n",
       " ('deu', 627037),\n",
       " ('fra', 569043),\n",
       " ('por', 422236),\n",
       " ('spa', 402610),\n",
       " ('hun', 394834),\n",
       " ('jpn', 238601),\n",
       " ('heb', 200845),\n",
       " ('ukr', 184423),\n",
       " ('nld', 177097),\n",
       " ('fin', 146735),\n",
       " ('pol', 123050),\n",
       " ('lit', 93949),\n",
       " ('mkd', 78095),\n",
       " ('tgl', 74924),\n",
       " ('ces', 73650),\n",
       " ('cmn', 73646),\n",
       " ('mar', 73277),\n",
       " ('ara', 62803),\n",
       " ('dan', 59011),\n",
       " ('tok', 54067),\n",
       " ('swe', 53199),\n",
       " ('lat', 49211),\n",
       " ('srp', 47878)]"
      ]
     },
     "execution_count": 13,
     "metadata": {},
     "output_type": "execute_result"
    }
   ],
   "source": [
    "counter.most_common(30)"
   ]
  },
  {
   "cell_type": "markdown",
   "metadata": {},
   "source": [
    "## Restricting the Dataset to a few Languages "
   ]
  },
  {
   "cell_type": "markdown",
   "metadata": {},
   "source": [
    "The Tatoeba dataset is very large. You will first extract a subset of it\n",
    "\n",
    "Write the code to extract texts in the languages below. For each language, you limit the number of documents to 50,000 or less if the language has less documents.\n",
    "You will call the resulting dataset: `dataset`"
   ]
  },
  {
   "cell_type": "markdown",
   "metadata": {},
   "source": [
    "The languages"
   ]
  },
  {
   "cell_type": "code",
   "execution_count": 14,
   "metadata": {},
   "outputs": [],
   "source": [
    "langs = ['fra', 'cmn', 'jpn', 'eng', 'swe', 'dan']"
   ]
  },
  {
   "cell_type": "markdown",
   "metadata": {},
   "source": [
    "The maximal number of documents per language"
   ]
  },
  {
   "cell_type": "code",
   "execution_count": 15,
   "metadata": {},
   "outputs": [],
   "source": [
    "MAX_DOCS = 50000"
   ]
  },
  {
   "cell_type": "markdown",
   "metadata": {},
   "source": [
    "Write a loop that:\n",
    "1. Extracts a list of all the documents in a certain language from the dataset\n",
    "2. Shuffles this list with `random.shuffle()`\n",
    "3. Adds `MAX_DOCS` to `dataset`. You just need to use a slice"
   ]
  },
  {
   "cell_type": "code",
   "execution_count": 16,
   "metadata": {},
   "outputs": [],
   "source": [
    "# Write your code here\n",
    "dataset = []\n",
    "for lang in langs:\n",
    "    dataset += list(filter(lambda x: x[1] == lang, dataset_large))[:MAX_DOCS]"
   ]
  },
  {
   "cell_type": "code",
   "execution_count": 17,
   "metadata": {},
   "outputs": [],
   "source": [
    "random.shuffle(dataset)"
   ]
  },
  {
   "cell_type": "code",
   "execution_count": 18,
   "metadata": {},
   "outputs": [
    {
     "data": {
      "text/plain": [
       "300000"
      ]
     },
     "execution_count": 18,
     "metadata": {},
     "output_type": "execute_result"
    }
   ],
   "source": [
    "len(dataset)"
   ]
  },
  {
   "cell_type": "code",
   "execution_count": 19,
   "metadata": {},
   "outputs": [
    {
     "data": {
      "text/plain": [
       "[('8638547', 'dan', 'Min far er for nylig vendt tilbage fra Japan.'),\n",
       " ('98775', 'jpn', '彼らがいつやってくるかわからない。'),\n",
       " ('84287', 'jpn', '腐れ縁と思ってあきらめる。'),\n",
       " ('81442', 'jpn', '魔女の女王は死ぬ。'),\n",
       " ('611992', 'cmn', '香橙含有豐富的維他命 C。')]"
      ]
     },
     "execution_count": 19,
     "metadata": {},
     "output_type": "execute_result"
    }
   ],
   "source": [
    "dataset[:5]"
   ]
  },
  {
   "cell_type": "markdown",
   "metadata": {},
   "source": [
    "### Pickel dump and reading the dataset"
   ]
  },
  {
   "cell_type": "code",
   "execution_count": 20,
   "metadata": {},
   "outputs": [],
   "source": [
    "pickle.dump(dataset, open(\"lab4dataset.txt\", \"wb\"))"
   ]
  },
  {
   "cell_type": "code",
   "execution_count": 21,
   "metadata": {},
   "outputs": [
    {
     "data": {
      "text/plain": [
       "[('8638547', 'dan', 'Min far er for nylig vendt tilbage fra Japan.'),\n",
       " ('98775', 'jpn', '彼らがいつやってくるかわからない。'),\n",
       " ('84287', 'jpn', '腐れ縁と思ってあきらめる。'),\n",
       " ('81442', 'jpn', '魔女の女王は死ぬ。'),\n",
       " ('611992', 'cmn', '香橙含有豐富的維他命 C。')]"
      ]
     },
     "execution_count": 21,
     "metadata": {},
     "output_type": "execute_result"
    }
   ],
   "source": [
    "dataset = pickle.load(open(\"lab4dataset.txt\", \"rb\"))\n",
    "dataset[:5]"
   ]
  },
  {
   "cell_type": "markdown",
   "metadata": {},
   "source": [
    "## Utilities\n",
    "\n",
    "Before you can use the dataset to train a model, you need to convert it into numbers. You will carry this with out the following steps and you will write a corresponding function.\n",
    "1. You will extract the $n$-grams up to trigrams (`all_ngrams()`);\n",
    "2. Trigrams can create many symbols that most student's machines cannot process. You will reduce their numbers using hash codes (`hash_ngrams()`);\n",
    "3. You will compute the relative frequencies of the $n$-grams, replaced here by the hash codes (`calc_ref_freq()`).\n",
    "4. The results will be stored in three dictionaries, for characters, bigrams, and trigrams. You will merge these dictionaries into one (`shift_keys()`).\n",
    "\n",
    "You will then apply the functions to vectorize the dataset."
   ]
  },
  {
   "cell_type": "markdown",
   "metadata": {},
   "source": [
    "### Extracting $n$-grams\n",
    "The goal of this section is that you extract the $n$-grams from a text. By default, you will lowercase the text. The result will have the form: `[chars, bigrams, trigrams]`"
   ]
  },
  {
   "cell_type": "markdown",
   "metadata": {},
   "source": [
    "Write a function to extract the $n$-grams of a sentence: `ngrams(sentence, n=1, lc=True)`, `n` is a parameters. You can use list slices for this."
   ]
  },
  {
   "cell_type": "code",
   "execution_count": 22,
   "metadata": {},
   "outputs": [],
   "source": [
    "# Write your code here\n",
    "def ngrams(sentence, n=1, lc=True):\n",
    "    ngram_l = []\n",
    "    chars = list(sentence)\n",
    "    for i in range(len(chars)-n+1):\n",
    "        ngram = \"\".join(chars[i:i+n])\n",
    "        if lc:\n",
    "            ngram = ngram.lower()\n",
    "        ngram_l.append(ngram)\n",
    "    return ngram_l"
   ]
  },
  {
   "cell_type": "code",
   "execution_count": 23,
   "metadata": {},
   "outputs": [
    {
     "data": {
      "text/plain": [
       "['t', 'r', 'y', ' ', 's', 'o', 'm', 'e', 't', 'h', 'i', 'n', 'g', '.']"
      ]
     },
     "execution_count": 23,
     "metadata": {},
     "output_type": "execute_result"
    }
   ],
   "source": [
    "ngrams('try something.')"
   ]
  },
  {
   "cell_type": "code",
   "execution_count": 24,
   "metadata": {},
   "outputs": [
    {
     "data": {
      "text/plain": [
       "['tr', 'ry', 'y ', ' s', 'so', 'om', 'me', 'et', 'th', 'hi', 'in', 'ng', 'g.']"
      ]
     },
     "execution_count": 24,
     "metadata": {},
     "output_type": "execute_result"
    }
   ],
   "source": [
    "ngrams('try something.', n=2)"
   ]
  },
  {
   "cell_type": "markdown",
   "metadata": {},
   "source": [
    "We now use this function to extract all the $n$-grams"
   ]
  },
  {
   "cell_type": "code",
   "execution_count": 25,
   "metadata": {},
   "outputs": [],
   "source": [
    "def all_ngrams(sentence, max_ngram=3, lc=True):\n",
    "    all_ngram_list = []\n",
    "    for i in range(1, max_ngram + 1):\n",
    "        all_ngram_list += [ngrams(sentence, n=i, lc=lc)]\n",
    "    return all_ngram_list"
   ]
  },
  {
   "cell_type": "code",
   "execution_count": 26,
   "metadata": {},
   "outputs": [
    {
     "data": {
      "text/plain": [
       "[['t', 'r', 'y', ' ', 's', 'o', 'm', 'e', 't', 'h', 'i', 'n', 'g', '.'],\n",
       " ['tr',\n",
       "  'ry',\n",
       "  'y ',\n",
       "  ' s',\n",
       "  'so',\n",
       "  'om',\n",
       "  'me',\n",
       "  'et',\n",
       "  'th',\n",
       "  'hi',\n",
       "  'in',\n",
       "  'ng',\n",
       "  'g.'],\n",
       " ['try',\n",
       "  'ry ',\n",
       "  'y s',\n",
       "  ' so',\n",
       "  'som',\n",
       "  'ome',\n",
       "  'met',\n",
       "  'eth',\n",
       "  'thi',\n",
       "  'hin',\n",
       "  'ing',\n",
       "  'ng.']]"
      ]
     },
     "execution_count": 26,
     "metadata": {},
     "output_type": "execute_result"
    }
   ],
   "source": [
    "all_ngrams('try something.')"
   ]
  },
  {
   "cell_type": "markdown",
   "metadata": {},
   "source": [
    "### Hashing"
   ]
  },
  {
   "cell_type": "markdown",
   "metadata": {},
   "source": [
    "We consider languages with many characters that will make the number of bigrams and trigrams impossible to process. We will use the _hashing trick_ to reduce them, where we will gather $n$-grams into subsets using hash codes.\n",
    "\n",
    "Each item will have this format:\n",
    "`[char_hcodes, bigram_hcodes, trigram_hcodes]`."
   ]
  },
  {
   "cell_type": "markdown",
   "metadata": {},
   "source": [
    "#### Description"
   ]
  },
  {
   "cell_type": "markdown",
   "metadata": {},
   "source": [
    "Python has a built-in hashing function that returns a unique numerical signature for a given string"
   ]
  },
  {
   "cell_type": "code",
   "execution_count": 27,
   "metadata": {},
   "outputs": [
    {
     "data": {
      "text/plain": [
       "(-2487669937101553324, -8617692203368088064, -886363846305662418)"
      ]
     },
     "execution_count": 27,
     "metadata": {},
     "output_type": "execute_result"
    }
   ],
   "source": [
    "hash('a'), hash('ab'), hash('abc')"
   ]
  },
  {
   "cell_type": "markdown",
   "metadata": {},
   "source": [
    "If we take the remainder (modulo) of a division by 5, we reduce the possible codes to: 0, 1, 2, 3, or 4"
   ]
  },
  {
   "cell_type": "code",
   "execution_count": 28,
   "metadata": {},
   "outputs": [
    {
     "data": {
      "text/plain": [
       "[1, 1, 2]"
      ]
     },
     "execution_count": 28,
     "metadata": {},
     "output_type": "execute_result"
    }
   ],
   "source": [
    "list(map(lambda x: x % 5, (hash('a'), hash('ab'), hash('abc'))))"
   ]
  },
  {
   "cell_type": "markdown",
   "metadata": {},
   "source": [
    "#### Implementation"
   ]
  },
  {
   "cell_type": "markdown",
   "metadata": {},
   "source": [
    "We set maximal numbers for our $n$-grams using these divisors"
   ]
  },
  {
   "cell_type": "code",
   "execution_count": 29,
   "metadata": {},
   "outputs": [],
   "source": [
    "MAX_CHARS = 521\n",
    "MAX_BIGRAMS = 1031\n",
    "MAX_TRIGRAMS = 1031"
   ]
  },
  {
   "cell_type": "markdown",
   "metadata": {},
   "source": [
    "Here strings have integer codes within the range [0, `MAX_CHARS`["
   ]
  },
  {
   "cell_type": "code",
   "execution_count": 30,
   "metadata": {},
   "outputs": [
    {
     "data": {
      "text/plain": [
       "[214, 220, 320]"
      ]
     },
     "execution_count": 30,
     "metadata": {},
     "output_type": "execute_result"
    }
   ],
   "source": [
    "list(map(lambda x: x % MAX_CHARS, (hash('a'), hash('ab'), hash('abc'))))"
   ]
  },
  {
   "cell_type": "markdown",
   "metadata": {},
   "source": [
    "Hash codes may vary across machines and Marcus Klang wrote this function to have reproducible codes"
   ]
  },
  {
   "cell_type": "code",
   "execution_count": 31,
   "metadata": {},
   "outputs": [],
   "source": [
    "def reproducible_hash(string):\n",
    "    \"\"\"\n",
    "    reproducible hash on any string\n",
    "    \n",
    "    Arguments:\n",
    "       string: python string object\n",
    "    \n",
    "    Returns:\n",
    "       signed int64\n",
    "    \"\"\"\n",
    "    \n",
    "    # We are using MD5 for speed not security.\n",
    "    h = hashlib.md5(string.encode(\"utf-8\"), usedforsecurity=False)\n",
    "    return int.from_bytes(h.digest()[0:8], 'big', signed=True)"
   ]
  },
  {
   "cell_type": "code",
   "execution_count": 32,
   "metadata": {},
   "outputs": [
    {
     "data": {
      "text/plain": [
       "919145239626757800"
      ]
     },
     "execution_count": 32,
     "metadata": {},
     "output_type": "execute_result"
    }
   ],
   "source": [
    "reproducible_hash('a')"
   ]
  },
  {
   "cell_type": "code",
   "execution_count": 33,
   "metadata": {},
   "outputs": [
    {
     "data": {
      "text/plain": [
       "234"
      ]
     },
     "execution_count": 33,
     "metadata": {},
     "output_type": "execute_result"
    }
   ],
   "source": [
    "reproducible_hash('a') % MAX_CHARS"
   ]
  },
  {
   "cell_type": "markdown",
   "metadata": {},
   "source": [
    "### Converting $n$-grams to hash codes\n",
    "You will now convert the $n$-grams to hash codes\n"
   ]
  },
  {
   "cell_type": "code",
   "execution_count": 34,
   "metadata": {},
   "outputs": [],
   "source": [
    "MAXES = [MAX_CHARS, MAX_BIGRAMS, MAX_TRIGRAMS]"
   ]
  },
  {
   "cell_type": "markdown",
   "metadata": {},
   "source": [
    "Create a `hash_ngrams` function that creates a list of hash codes from a list of $n$-grams. As arguments, you will have the list of $n$-grams `[chars, bigrams, trigrams]` as well as the list of dividers (`MAXES`).\n",
    "\n",
    "The output format will be a list of three lists:\n",
    "\n",
    "`[char_hcodes, bigram_hcodes, trigram_hcodes]`."
   ]
  },
  {
   "cell_type": "code",
   "execution_count": 35,
   "metadata": {},
   "outputs": [],
   "source": [
    "# Write your code\n",
    "def hash_ngrams(ngrams, modulos):\n",
    "    hash_codes = []\n",
    "    for i in range(len(ngrams)):\n",
    "        ngram_hash = []\n",
    "        ngram = ngrams[i]\n",
    "        modulo = modulos[i]\n",
    "        for j in range(len(ngram)):\n",
    "            ngram_hash.append(reproducible_hash(ngram[j]) % modulo)\n",
    "        hash_codes.append(ngram_hash)\n",
    "    return hash_codes"
   ]
  },
  {
   "cell_type": "code",
   "execution_count": 36,
   "metadata": {},
   "outputs": [
    {
     "data": {
      "text/plain": [
       "[['t', 'r', 'y', ' ', 's', 'o', 'm', 'e', 't', 'h', 'i', 'n', 'g', '.'],\n",
       " ['tr',\n",
       "  'ry',\n",
       "  'y ',\n",
       "  ' s',\n",
       "  'so',\n",
       "  'om',\n",
       "  'me',\n",
       "  'et',\n",
       "  'th',\n",
       "  'hi',\n",
       "  'in',\n",
       "  'ng',\n",
       "  'g.'],\n",
       " ['try',\n",
       "  'ry ',\n",
       "  'y s',\n",
       "  ' so',\n",
       "  'som',\n",
       "  'ome',\n",
       "  'met',\n",
       "  'eth',\n",
       "  'thi',\n",
       "  'hin',\n",
       "  'ing',\n",
       "  'ng.']]"
      ]
     },
     "execution_count": 36,
     "metadata": {},
     "output_type": "execute_result"
    }
   ],
   "source": [
    "all_ngrams('try something.')"
   ]
  },
  {
   "cell_type": "code",
   "execution_count": 37,
   "metadata": {},
   "outputs": [
    {
     "data": {
      "text/plain": [
       "[[432, 437, 309, 86, 331, 97, 100, 32, 432, 332, 233, 310, 31, 442],\n",
       " [6, 765, 224, 203, 557, 176, 590, 711, 527, 757, 919, 57, 685],\n",
       " [848, 617, 468, 456, 873, 996, 287, 10, 817, 674, 960, 399]]"
      ]
     },
     "execution_count": 37,
     "metadata": {},
     "output_type": "execute_result"
    }
   ],
   "source": [
    "hash_ngrams(all_ngrams('try something.'), MAXES)"
   ]
  },
  {
   "cell_type": "markdown",
   "metadata": {},
   "source": [
    "### Functions to Count Hash Codes"
   ]
  },
  {
   "cell_type": "markdown",
   "metadata": {},
   "source": [
    "Write a function `calc_rel_freq(codes)` to count the codes. As in CLD3, you will return the relative frequencies.\n",
    "\n",
    "This is just an application of `Counter` to a list of codes and then a division by the length.\n",
    "\n",
    "The input is a list of codes and the output is a `Counter` object of relative frequencies."
   ]
  },
  {
   "cell_type": "code",
   "execution_count": 38,
   "metadata": {},
   "outputs": [],
   "source": [
    "# Write your code\n",
    "def calc_rel_freq(codes):\n",
    "    length = len(codes)\n",
    "    cnt = Counter(codes)\n",
    "    for key in cnt:\n",
    "        cnt[key] = cnt[key] / length\n",
    "    return cnt"
   ]
  },
  {
   "cell_type": "code",
   "execution_count": 39,
   "metadata": {},
   "outputs": [
    {
     "data": {
      "text/plain": [
       "[[432, 437, 309, 86, 331, 97, 100, 32, 432, 332, 233, 310, 31, 442],\n",
       " [6, 765, 224, 203, 557, 176, 590, 711, 527, 757, 919, 57, 685],\n",
       " [848, 617, 468, 456, 873, 996, 287, 10, 817, 674, 960, 399]]"
      ]
     },
     "execution_count": 39,
     "metadata": {},
     "output_type": "execute_result"
    }
   ],
   "source": [
    "hash_ngrams(all_ngrams('try something.'), MAXES)"
   ]
  },
  {
   "cell_type": "code",
   "execution_count": 40,
   "metadata": {},
   "outputs": [
    {
     "data": {
      "text/plain": [
       "[Counter({432: 0.14285714285714285,\n",
       "          437: 0.07142857142857142,\n",
       "          309: 0.07142857142857142,\n",
       "          86: 0.07142857142857142,\n",
       "          331: 0.07142857142857142,\n",
       "          97: 0.07142857142857142,\n",
       "          100: 0.07142857142857142,\n",
       "          32: 0.07142857142857142,\n",
       "          332: 0.07142857142857142,\n",
       "          233: 0.07142857142857142,\n",
       "          310: 0.07142857142857142,\n",
       "          31: 0.07142857142857142,\n",
       "          442: 0.07142857142857142}),\n",
       " Counter({6: 0.07692307692307693,\n",
       "          765: 0.07692307692307693,\n",
       "          224: 0.07692307692307693,\n",
       "          203: 0.07692307692307693,\n",
       "          557: 0.07692307692307693,\n",
       "          176: 0.07692307692307693,\n",
       "          590: 0.07692307692307693,\n",
       "          711: 0.07692307692307693,\n",
       "          527: 0.07692307692307693,\n",
       "          757: 0.07692307692307693,\n",
       "          919: 0.07692307692307693,\n",
       "          57: 0.07692307692307693,\n",
       "          685: 0.07692307692307693}),\n",
       " Counter({848: 0.08333333333333333,\n",
       "          617: 0.08333333333333333,\n",
       "          468: 0.08333333333333333,\n",
       "          456: 0.08333333333333333,\n",
       "          873: 0.08333333333333333,\n",
       "          996: 0.08333333333333333,\n",
       "          287: 0.08333333333333333,\n",
       "          10: 0.08333333333333333,\n",
       "          817: 0.08333333333333333,\n",
       "          674: 0.08333333333333333,\n",
       "          960: 0.08333333333333333,\n",
       "          399: 0.08333333333333333})]"
      ]
     },
     "execution_count": 40,
     "metadata": {},
     "output_type": "execute_result"
    }
   ],
   "source": [
    "list(map(calc_rel_freq, hash_ngrams(all_ngrams('try something.'), MAXES)))"
   ]
  },
  {
   "cell_type": "markdown",
   "metadata": {},
   "source": [
    "### Merge the Dictionaries"
   ]
  },
  {
   "cell_type": "markdown",
   "metadata": {},
   "source": [
    "In the results above, we have three counter objects with numerical keys (the hash codes). You will build one dictionary of them.\n",
    "\n",
    "There is a key overlap and we must take care that a same hash code for the unigrams is not the same as in the bigrams. We will then shift the keys.\n",
    "\n",
    "The keys range from:\n",
    "1. Unigrams from 0 to 521, [0, MAX_CHARS[\n",
    "2. Bigrams from 0 to 1031, [0, MAX_BIGRAMS[\n",
    "3. Trigrams from 1 to 1031, [0, MAX_TRIGRAMS["
   ]
  },
  {
   "cell_type": "markdown",
   "metadata": {},
   "source": [
    "You will leave the unigrams keys as they are. You will shift the bigram keys by MAX_CHARS, and the trigram keys by MAX_CHARS + MAX_BIGRAMS. You can reuse the code below"
   ]
  },
  {
   "cell_type": "code",
   "execution_count": 41,
   "metadata": {},
   "outputs": [],
   "source": [
    "MAX_SHIFT = []\n",
    "for i in range(len(MAXES)):\n",
    "    MAX_SHIFT += [sum(MAXES[:i])]"
   ]
  },
  {
   "cell_type": "code",
   "execution_count": 42,
   "metadata": {},
   "outputs": [
    {
     "data": {
      "text/plain": [
       "[0, 521, 1552]"
      ]
     },
     "execution_count": 42,
     "metadata": {},
     "output_type": "execute_result"
    }
   ],
   "source": [
    "MAX_SHIFT"
   ]
  },
  {
   "cell_type": "markdown",
   "metadata": {},
   "source": [
    "Write a `shift_keys(dicts, MAX_SHIFT)` function that takes a list of dictionaries as input and the list of shifts and that a new unique dictionary, where the numerical keys have been shifted by the numbers in `MAX_SHIFT`"
   ]
  },
  {
   "cell_type": "code",
   "execution_count": 43,
   "metadata": {},
   "outputs": [],
   "source": [
    "# Write your code here\n",
    "def shift_keys(dicts, MAX_SHIFT):\n",
    "    new_dict = {}\n",
    "    for i in range(len(dicts)):\n",
    "        dictionary = dicts[i]\n",
    "        max_shift = MAX_SHIFT[i]\n",
    "        for key in dictionary:\n",
    "            new_dict[key + max_shift] = dictionary[key]\n",
    "    return new_dict"
   ]
  },
  {
   "cell_type": "code",
   "execution_count": 44,
   "metadata": {},
   "outputs": [
    {
     "data": {
      "text/plain": [
       "[Counter({432: 0.14285714285714285,\n",
       "          437: 0.07142857142857142,\n",
       "          309: 0.07142857142857142,\n",
       "          86: 0.07142857142857142,\n",
       "          331: 0.07142857142857142,\n",
       "          97: 0.07142857142857142,\n",
       "          100: 0.07142857142857142,\n",
       "          32: 0.07142857142857142,\n",
       "          332: 0.07142857142857142,\n",
       "          233: 0.07142857142857142,\n",
       "          310: 0.07142857142857142,\n",
       "          31: 0.07142857142857142,\n",
       "          442: 0.07142857142857142}),\n",
       " Counter({6: 0.07692307692307693,\n",
       "          765: 0.07692307692307693,\n",
       "          224: 0.07692307692307693,\n",
       "          203: 0.07692307692307693,\n",
       "          557: 0.07692307692307693,\n",
       "          176: 0.07692307692307693,\n",
       "          590: 0.07692307692307693,\n",
       "          711: 0.07692307692307693,\n",
       "          527: 0.07692307692307693,\n",
       "          757: 0.07692307692307693,\n",
       "          919: 0.07692307692307693,\n",
       "          57: 0.07692307692307693,\n",
       "          685: 0.07692307692307693}),\n",
       " Counter({848: 0.08333333333333333,\n",
       "          617: 0.08333333333333333,\n",
       "          468: 0.08333333333333333,\n",
       "          456: 0.08333333333333333,\n",
       "          873: 0.08333333333333333,\n",
       "          996: 0.08333333333333333,\n",
       "          287: 0.08333333333333333,\n",
       "          10: 0.08333333333333333,\n",
       "          817: 0.08333333333333333,\n",
       "          674: 0.08333333333333333,\n",
       "          960: 0.08333333333333333,\n",
       "          399: 0.08333333333333333})]"
      ]
     },
     "execution_count": 44,
     "metadata": {},
     "output_type": "execute_result"
    }
   ],
   "source": [
    "list(map(calc_rel_freq, hash_ngrams(all_ngrams('try something.'), MAXES)))"
   ]
  },
  {
   "cell_type": "code",
   "execution_count": 45,
   "metadata": {},
   "outputs": [
    {
     "data": {
      "text/plain": [
       "{432: 0.14285714285714285,\n",
       " 437: 0.07142857142857142,\n",
       " 309: 0.07142857142857142,\n",
       " 86: 0.07142857142857142,\n",
       " 331: 0.07142857142857142,\n",
       " 97: 0.07142857142857142,\n",
       " 100: 0.07142857142857142,\n",
       " 32: 0.07142857142857142,\n",
       " 332: 0.07142857142857142,\n",
       " 233: 0.07142857142857142,\n",
       " 310: 0.07142857142857142,\n",
       " 31: 0.07142857142857142,\n",
       " 442: 0.07142857142857142,\n",
       " 527: 0.07692307692307693,\n",
       " 1286: 0.07692307692307693,\n",
       " 745: 0.07692307692307693,\n",
       " 724: 0.07692307692307693,\n",
       " 1078: 0.07692307692307693,\n",
       " 697: 0.07692307692307693,\n",
       " 1111: 0.07692307692307693,\n",
       " 1232: 0.07692307692307693,\n",
       " 1048: 0.07692307692307693,\n",
       " 1278: 0.07692307692307693,\n",
       " 1440: 0.07692307692307693,\n",
       " 578: 0.07692307692307693,\n",
       " 1206: 0.07692307692307693,\n",
       " 2400: 0.08333333333333333,\n",
       " 2169: 0.08333333333333333,\n",
       " 2020: 0.08333333333333333,\n",
       " 2008: 0.08333333333333333,\n",
       " 2425: 0.08333333333333333,\n",
       " 2548: 0.08333333333333333,\n",
       " 1839: 0.08333333333333333,\n",
       " 1562: 0.08333333333333333,\n",
       " 2369: 0.08333333333333333,\n",
       " 2226: 0.08333333333333333,\n",
       " 2512: 0.08333333333333333,\n",
       " 1951: 0.08333333333333333}"
      ]
     },
     "execution_count": 45,
     "metadata": {},
     "output_type": "execute_result"
    }
   ],
   "source": [
    "shift_keys(list(map(calc_rel_freq, hash_ngrams(all_ngrams('try something.'), MAXES))), MAX_SHIFT)"
   ]
  },
  {
   "cell_type": "markdown",
   "metadata": {},
   "source": [
    "Finally, we assemble all these utilities in a function"
   ]
  },
  {
   "cell_type": "code",
   "execution_count": 46,
   "metadata": {},
   "outputs": [],
   "source": [
    "def build_freq_dict(sentence, MAXES=MAXES, MAX_SHIFT=MAX_SHIFT):\n",
    "    hngrams = hash_ngrams(all_ngrams(sentence), MAXES)\n",
    "    fhcodes = list(map(calc_rel_freq, hngrams))\n",
    "    return shift_keys(fhcodes, MAX_SHIFT)"
   ]
  },
  {
   "cell_type": "code",
   "execution_count": 47,
   "metadata": {},
   "outputs": [
    {
     "data": {
      "text/plain": [
       "{432: 0.14285714285714285,\n",
       " 437: 0.07142857142857142,\n",
       " 309: 0.07142857142857142,\n",
       " 86: 0.07142857142857142,\n",
       " 331: 0.07142857142857142,\n",
       " 97: 0.07142857142857142,\n",
       " 100: 0.07142857142857142,\n",
       " 32: 0.07142857142857142,\n",
       " 332: 0.07142857142857142,\n",
       " 233: 0.07142857142857142,\n",
       " 310: 0.07142857142857142,\n",
       " 31: 0.07142857142857142,\n",
       " 442: 0.07142857142857142,\n",
       " 527: 0.07692307692307693,\n",
       " 1286: 0.07692307692307693,\n",
       " 745: 0.07692307692307693,\n",
       " 724: 0.07692307692307693,\n",
       " 1078: 0.07692307692307693,\n",
       " 697: 0.07692307692307693,\n",
       " 1111: 0.07692307692307693,\n",
       " 1232: 0.07692307692307693,\n",
       " 1048: 0.07692307692307693,\n",
       " 1278: 0.07692307692307693,\n",
       " 1440: 0.07692307692307693,\n",
       " 578: 0.07692307692307693,\n",
       " 1206: 0.07692307692307693,\n",
       " 2400: 0.08333333333333333,\n",
       " 2169: 0.08333333333333333,\n",
       " 2020: 0.08333333333333333,\n",
       " 2008: 0.08333333333333333,\n",
       " 2425: 0.08333333333333333,\n",
       " 2548: 0.08333333333333333,\n",
       " 1839: 0.08333333333333333,\n",
       " 1562: 0.08333333333333333,\n",
       " 2369: 0.08333333333333333,\n",
       " 2226: 0.08333333333333333,\n",
       " 2512: 0.08333333333333333,\n",
       " 1951: 0.08333333333333333}"
      ]
     },
     "execution_count": 47,
     "metadata": {},
     "output_type": "execute_result"
    }
   ],
   "source": [
    "build_freq_dict('try something.')"
   ]
  },
  {
   "cell_type": "markdown",
   "metadata": {},
   "source": [
    "## Converting the Dataset\n",
    "We can now enrich the dataset with a numerical representation of the sentence. We use the utility functions and we call this new version: `dataset_num`"
   ]
  },
  {
   "cell_type": "code",
   "execution_count": 48,
   "metadata": {},
   "outputs": [
    {
     "data": {
      "text/plain": [
       "[('8638547', 'dan', 'Min far er for nylig vendt tilbage fra Japan.'),\n",
       " ('98775', 'jpn', '彼らがいつやってくるかわからない。')]"
      ]
     },
     "execution_count": 48,
     "metadata": {},
     "output_type": "execute_result"
    }
   ],
   "source": [
    "dataset[:2]"
   ]
  },
  {
   "cell_type": "code",
   "execution_count": 49,
   "metadata": {},
   "outputs": [
    {
     "name": "stderr",
     "output_type": "stream",
     "text": [
      "  9%|▉         | 27464/300000 [00:05<00:44, 6058.31it/s]"
     ]
    },
    {
     "name": "stderr",
     "output_type": "stream",
     "text": [
      "100%|██████████| 300000/300000 [00:44<00:00, 6763.48it/s]\n"
     ]
    }
   ],
   "source": [
    "dataset_num = []\n",
    "for datapoint in tqdm(dataset):\n",
    "    dataset_num += [list(datapoint) + [build_freq_dict(datapoint[2])]]"
   ]
  },
  {
   "cell_type": "code",
   "execution_count": 50,
   "metadata": {},
   "outputs": [
    {
     "data": {
      "text/plain": [
       "[['8638547',\n",
       "  'dan',\n",
       "  'Min far er for nylig vendt tilbage fra Japan.',\n",
       "  {100: 0.022222222222222223,\n",
       "   233: 0.06666666666666667,\n",
       "   310: 0.08888888888888889,\n",
       "   86: 0.17777777777777778,\n",
       "   327: 0.06666666666666667,\n",
       "   234: 0.1111111111111111,\n",
       "   437: 0.08888888888888889,\n",
       "   32: 0.06666666666666667,\n",
       "   97: 0.022222222222222223,\n",
       "   309: 0.022222222222222223,\n",
       "   15: 0.044444444444444446,\n",
       "   31: 0.044444444444444446,\n",
       "   121: 0.022222222222222223,\n",
       "   371: 0.022222222222222223,\n",
       "   432: 0.044444444444444446,\n",
       "   25: 0.022222222222222223,\n",
       "   192: 0.022222222222222223,\n",
       "   379: 0.022222222222222223,\n",
       "   442: 0.022222222222222223,\n",
       "   1294: 0.022727272727272728,\n",
       "   1440: 0.022727272727272728,\n",
       "   1222: 0.022727272727272728,\n",
       "   1547: 0.06818181818181818,\n",
       "   531: 0.022727272727272728,\n",
       "   557: 0.022727272727272728,\n",
       "   555: 0.09090909090909091,\n",
       "   912: 0.022727272727272728,\n",
       "   1066: 0.022727272727272728,\n",
       "   819: 0.022727272727272728,\n",
       "   1207: 0.022727272727272728,\n",
       "   1540: 0.022727272727272728,\n",
       "   1010: 0.022727272727272728,\n",
       "   1498: 0.022727272727272728,\n",
       "   909: 0.022727272727272728,\n",
       "   1029: 0.022727272727272728,\n",
       "   1304: 0.022727272727272728,\n",
       "   1223: 0.022727272727272728,\n",
       "   1465: 0.022727272727272728,\n",
       "   732: 0.022727272727272728,\n",
       "   804: 0.022727272727272728,\n",
       "   1167: 0.022727272727272728,\n",
       "   1492: 0.022727272727272728,\n",
       "   860: 0.022727272727272728,\n",
       "   863: 0.022727272727272728,\n",
       "   1198: 0.022727272727272728,\n",
       "   1515: 0.022727272727272728,\n",
       "   1403: 0.022727272727272728,\n",
       "   994: 0.022727272727272728,\n",
       "   995: 0.022727272727272728,\n",
       "   882: 0.022727272727272728,\n",
       "   661: 0.022727272727272728,\n",
       "   1115: 0.022727272727272728,\n",
       "   902: 0.022727272727272728,\n",
       "   1537: 0.022727272727272728,\n",
       "   948: 0.022727272727272728,\n",
       "   671: 0.022727272727272728,\n",
       "   1170: 0.022727272727272728,\n",
       "   841: 0.022727272727272728,\n",
       "   1829: 0.023255813953488372,\n",
       "   2032: 0.023255813953488372,\n",
       "   1828: 0.023255813953488372,\n",
       "   2254: 0.023255813953488372,\n",
       "   2207: 0.023255813953488372,\n",
       "   1776: 0.023255813953488372,\n",
       "   2408: 0.023255813953488372,\n",
       "   2323: 0.023255813953488372,\n",
       "   2508: 0.023255813953488372,\n",
       "   2137: 0.023255813953488372,\n",
       "   1788: 0.023255813953488372,\n",
       "   1680: 0.023255813953488372,\n",
       "   2372: 0.023255813953488372,\n",
       "   2538: 0.023255813953488372,\n",
       "   2170: 0.023255813953488372,\n",
       "   2397: 0.023255813953488372,\n",
       "   2319: 0.023255813953488372,\n",
       "   2043: 0.023255813953488372,\n",
       "   1592: 0.023255813953488372,\n",
       "   1863: 0.023255813953488372,\n",
       "   2068: 0.023255813953488372,\n",
       "   1683: 0.023255813953488372,\n",
       "   1657: 0.023255813953488372,\n",
       "   2473: 0.023255813953488372,\n",
       "   2347: 0.023255813953488372,\n",
       "   2518: 0.023255813953488372,\n",
       "   2169: 0.023255813953488372,\n",
       "   2258: 0.023255813953488372,\n",
       "   1785: 0.023255813953488372,\n",
       "   2225: 0.023255813953488372,\n",
       "   1707: 0.023255813953488372,\n",
       "   2020: 0.023255813953488372,\n",
       "   1751: 0.023255813953488372,\n",
       "   1763: 0.023255813953488372,\n",
       "   1700: 0.023255813953488372,\n",
       "   2004: 0.023255813953488372,\n",
       "   2416: 0.023255813953488372,\n",
       "   2310: 0.023255813953488372,\n",
       "   2025: 0.023255813953488372,\n",
       "   1698: 0.023255813953488372,\n",
       "   1778: 0.023255813953488372,\n",
       "   2364: 0.023255813953488372,\n",
       "   2189: 0.023255813953488372}],\n",
       " ['98775',\n",
       "  'jpn',\n",
       "  '彼らがいつやってくるかわからない。',\n",
       "  {129: 0.058823529411764705,\n",
       "   496: 0.11764705882352941,\n",
       "   99: 0.058823529411764705,\n",
       "   49: 0.11764705882352941,\n",
       "   125: 0.058823529411764705,\n",
       "   142: 0.058823529411764705,\n",
       "   50: 0.058823529411764705,\n",
       "   36: 0.058823529411764705,\n",
       "   202: 0.058823529411764705,\n",
       "   489: 0.058823529411764705,\n",
       "   485: 0.11764705882352941,\n",
       "   502: 0.058823529411764705,\n",
       "   411: 0.058823529411764705,\n",
       "   157: 0.058823529411764705,\n",
       "   1364: 0.0625,\n",
       "   1013: 0.0625,\n",
       "   941: 0.0625,\n",
       "   1115: 0.0625,\n",
       "   1498: 0.0625,\n",
       "   1317: 0.0625,\n",
       "   1211: 0.0625,\n",
       "   1083: 0.0625,\n",
       "   623: 0.0625,\n",
       "   1250: 0.0625,\n",
       "   932: 0.0625,\n",
       "   1314: 0.0625,\n",
       "   827: 0.0625,\n",
       "   1304: 0.0625,\n",
       "   992: 0.0625,\n",
       "   600: 0.0625,\n",
       "   2325: 0.06666666666666667,\n",
       "   1771: 0.06666666666666667,\n",
       "   1932: 0.13333333333333333,\n",
       "   1727: 0.06666666666666667,\n",
       "   1782: 0.06666666666666667,\n",
       "   2073: 0.06666666666666667,\n",
       "   2539: 0.06666666666666667,\n",
       "   2065: 0.06666666666666667,\n",
       "   2151: 0.06666666666666667,\n",
       "   1577: 0.06666666666666667,\n",
       "   2034: 0.06666666666666667,\n",
       "   2173: 0.06666666666666667,\n",
       "   1995: 0.06666666666666667,\n",
       "   1758: 0.06666666666666667}]]"
      ]
     },
     "execution_count": 50,
     "metadata": {},
     "output_type": "execute_result"
    }
   ],
   "source": [
    "dataset_num[:2]"
   ]
  },
  {
   "cell_type": "markdown",
   "metadata": {},
   "source": [
    "## Programming: Building ${X}$"
   ]
  },
  {
   "cell_type": "markdown",
   "metadata": {},
   "source": [
    "You will now build the ${X}$ matrix."
   ]
  },
  {
   "cell_type": "markdown",
   "metadata": {},
   "source": [
    "### Vectorizing the features"
   ]
  },
  {
   "cell_type": "markdown",
   "metadata": {},
   "source": [
    "The CLD3 architecture uses embeddings. In this lab, we will simplify it and we will use a feature vector instead consisting of the character frequencies. For example, you will represent the text:\n",
    "\n",
    "`\"Let's try something.\"`\n",
    "\n",
    "with:\n",
    "\n",
    "`{'l': 0.05, 'e': 0.1, 't': 0.15, \"'\": 0.05, 's': 0.1, ' ': 0.1, \n",
    " 'r': 0.05, 'y': 0.05, 'o': 0.05, 'm': 0.05, 'h': 0.05, 'i': 0.05, \n",
    " 'n': 0.05, 'g': 0.05, '.': 0.05}`\n",
    "\n",
    "Note that we used characters and not codes to make it more legible.\n",
    "\n",
    "To create the ${X}$ matrix, we need to transform the dictionaries of `dataset_num` into numerical vectors. The `DictVectorizer` class from the scikit-learn library, see here [https://scikit-learn.org/stable/modules/generated/sklearn.feature_extraction.DictVectorizer.html], has two methods, `fit()` and `transform()`, and a combination of both `fit_transform()` to convert dictionaries into such vectors."
   ]
  },
  {
   "cell_type": "markdown",
   "metadata": {},
   "source": [
    "You will now write the code to:\n",
    "\n",
    "1. Extract the hash code frequency dictionaries from `dataset_num` corresponding to its 3rd index;\n",
    "2. Convert the list of dictionaries into an ${X}$ matrix using `DictVectorizer`."
   ]
  },
  {
   "cell_type": "markdown",
   "metadata": {},
   "source": [
    "#### Extracting the character frequencies"
   ]
  },
  {
   "cell_type": "markdown",
   "metadata": {},
   "source": [
    "Produce a new list of datapoints with the unigrams only. Each item in this list will be a dictionary. You will call it `X_cat`"
   ]
  },
  {
   "cell_type": "code",
   "execution_count": 51,
   "metadata": {},
   "outputs": [],
   "source": [
    "# Write your code here\n",
    "X_cat = list(map(lambda x: x[3], dataset_num))"
   ]
  },
  {
   "cell_type": "code",
   "execution_count": 52,
   "metadata": {},
   "outputs": [
    {
     "data": {
      "text/plain": [
       "{100: 0.022222222222222223,\n",
       " 233: 0.06666666666666667,\n",
       " 310: 0.08888888888888889,\n",
       " 86: 0.17777777777777778,\n",
       " 327: 0.06666666666666667,\n",
       " 234: 0.1111111111111111,\n",
       " 437: 0.08888888888888889,\n",
       " 32: 0.06666666666666667,\n",
       " 97: 0.022222222222222223,\n",
       " 309: 0.022222222222222223,\n",
       " 15: 0.044444444444444446,\n",
       " 31: 0.044444444444444446,\n",
       " 121: 0.022222222222222223,\n",
       " 371: 0.022222222222222223,\n",
       " 432: 0.044444444444444446,\n",
       " 25: 0.022222222222222223,\n",
       " 192: 0.022222222222222223,\n",
       " 379: 0.022222222222222223,\n",
       " 442: 0.022222222222222223,\n",
       " 1294: 0.022727272727272728,\n",
       " 1440: 0.022727272727272728,\n",
       " 1222: 0.022727272727272728,\n",
       " 1547: 0.06818181818181818,\n",
       " 531: 0.022727272727272728,\n",
       " 557: 0.022727272727272728,\n",
       " 555: 0.09090909090909091,\n",
       " 912: 0.022727272727272728,\n",
       " 1066: 0.022727272727272728,\n",
       " 819: 0.022727272727272728,\n",
       " 1207: 0.022727272727272728,\n",
       " 1540: 0.022727272727272728,\n",
       " 1010: 0.022727272727272728,\n",
       " 1498: 0.022727272727272728,\n",
       " 909: 0.022727272727272728,\n",
       " 1029: 0.022727272727272728,\n",
       " 1304: 0.022727272727272728,\n",
       " 1223: 0.022727272727272728,\n",
       " 1465: 0.022727272727272728,\n",
       " 732: 0.022727272727272728,\n",
       " 804: 0.022727272727272728,\n",
       " 1167: 0.022727272727272728,\n",
       " 1492: 0.022727272727272728,\n",
       " 860: 0.022727272727272728,\n",
       " 863: 0.022727272727272728,\n",
       " 1198: 0.022727272727272728,\n",
       " 1515: 0.022727272727272728,\n",
       " 1403: 0.022727272727272728,\n",
       " 994: 0.022727272727272728,\n",
       " 995: 0.022727272727272728,\n",
       " 882: 0.022727272727272728,\n",
       " 661: 0.022727272727272728,\n",
       " 1115: 0.022727272727272728,\n",
       " 902: 0.022727272727272728,\n",
       " 1537: 0.022727272727272728,\n",
       " 948: 0.022727272727272728,\n",
       " 671: 0.022727272727272728,\n",
       " 1170: 0.022727272727272728,\n",
       " 841: 0.022727272727272728,\n",
       " 1829: 0.023255813953488372,\n",
       " 2032: 0.023255813953488372,\n",
       " 1828: 0.023255813953488372,\n",
       " 2254: 0.023255813953488372,\n",
       " 2207: 0.023255813953488372,\n",
       " 1776: 0.023255813953488372,\n",
       " 2408: 0.023255813953488372,\n",
       " 2323: 0.023255813953488372,\n",
       " 2508: 0.023255813953488372,\n",
       " 2137: 0.023255813953488372,\n",
       " 1788: 0.023255813953488372,\n",
       " 1680: 0.023255813953488372,\n",
       " 2372: 0.023255813953488372,\n",
       " 2538: 0.023255813953488372,\n",
       " 2170: 0.023255813953488372,\n",
       " 2397: 0.023255813953488372,\n",
       " 2319: 0.023255813953488372,\n",
       " 2043: 0.023255813953488372,\n",
       " 1592: 0.023255813953488372,\n",
       " 1863: 0.023255813953488372,\n",
       " 2068: 0.023255813953488372,\n",
       " 1683: 0.023255813953488372,\n",
       " 1657: 0.023255813953488372,\n",
       " 2473: 0.023255813953488372,\n",
       " 2347: 0.023255813953488372,\n",
       " 2518: 0.023255813953488372,\n",
       " 2169: 0.023255813953488372,\n",
       " 2258: 0.023255813953488372,\n",
       " 1785: 0.023255813953488372,\n",
       " 2225: 0.023255813953488372,\n",
       " 1707: 0.023255813953488372,\n",
       " 2020: 0.023255813953488372,\n",
       " 1751: 0.023255813953488372,\n",
       " 1763: 0.023255813953488372,\n",
       " 1700: 0.023255813953488372,\n",
       " 2004: 0.023255813953488372,\n",
       " 2416: 0.023255813953488372,\n",
       " 2310: 0.023255813953488372,\n",
       " 2025: 0.023255813953488372,\n",
       " 1698: 0.023255813953488372,\n",
       " 1778: 0.023255813953488372,\n",
       " 2364: 0.023255813953488372,\n",
       " 2189: 0.023255813953488372}"
      ]
     },
     "execution_count": 52,
     "metadata": {},
     "output_type": "execute_result"
    }
   ],
   "source": [
    "X_cat[0]"
   ]
  },
  {
   "cell_type": "markdown",
   "metadata": {},
   "source": [
    "#### Vectorize `X_cat`"
   ]
  },
  {
   "cell_type": "markdown",
   "metadata": {},
   "source": [
    "Convert you `X_cat` matrix into a numerical representation using `DictVectorizer`: https://scikit-learn.org/stable/modules/generated/sklearn.feature_extraction.DictVectorizer.html. You will set the `sparse` argument to False. Call the result `X`."
   ]
  },
  {
   "cell_type": "code",
   "execution_count": 53,
   "metadata": {},
   "outputs": [],
   "source": [
    "# Write your code here\n",
    "v = DictVectorizer(sparse=False)\n",
    "X = v.fit_transform(X_cat)"
   ]
  },
  {
   "cell_type": "code",
   "execution_count": 54,
   "metadata": {},
   "outputs": [
    {
     "data": {
      "text/plain": [
       "(300000, 2583)"
      ]
     },
     "execution_count": 54,
     "metadata": {},
     "output_type": "execute_result"
    }
   ],
   "source": [
    "X.shape"
   ]
  },
  {
   "cell_type": "code",
   "execution_count": 55,
   "metadata": {},
   "outputs": [
    {
     "data": {
      "text/plain": [
       "array([[0.        , 0.        , 0.        , ..., 0.        , 0.        ,\n",
       "        0.        ],\n",
       "       [0.        , 0.        , 0.        , ..., 0.        , 0.        ,\n",
       "        0.        ],\n",
       "       [0.        , 0.        , 0.        , ..., 0.        , 0.        ,\n",
       "        0.        ],\n",
       "       [0.        , 0.11111111, 0.        , ..., 0.        , 0.        ,\n",
       "        0.        ],\n",
       "       [0.        , 0.        , 0.        , ..., 0.        , 0.        ,\n",
       "        0.        ]])"
      ]
     },
     "execution_count": 55,
     "metadata": {},
     "output_type": "execute_result"
    }
   ],
   "source": [
    "X[:5]"
   ]
  },
  {
   "cell_type": "markdown",
   "metadata": {},
   "source": [
    "## Programming: Building $\\mathbf{y}$"
   ]
  },
  {
   "cell_type": "markdown",
   "metadata": {},
   "source": [
    "You will now convert the list of language symbols into a $\\mathbf{y}$ vector"
   ]
  },
  {
   "cell_type": "markdown",
   "metadata": {},
   "source": [
    "Extract the language symbols from `dataset_small_feat` and call the resulting list `y_cat`"
   ]
  },
  {
   "cell_type": "code",
   "execution_count": 56,
   "metadata": {},
   "outputs": [],
   "source": [
    "# Write your code here\n",
    "y_cat = list(map(lambda x: x[1], dataset_num))"
   ]
  },
  {
   "cell_type": "code",
   "execution_count": 57,
   "metadata": {},
   "outputs": [
    {
     "data": {
      "text/plain": [
       "['dan', 'jpn', 'jpn', 'jpn', 'cmn']"
      ]
     },
     "execution_count": 57,
     "metadata": {},
     "output_type": "execute_result"
    }
   ],
   "source": [
    "y_cat[:5]"
   ]
  },
  {
   "cell_type": "markdown",
   "metadata": {},
   "source": [
    "Extract the set of language symbols and name it `y_symbols`. Then build two indices mapping the symbols to integers and the integers to symbols. Both indices will be dictionaries that you will call: `lang2idx`and `idx2lang`. Such a conversion is not necessary with sklearn. We do it because many other many machine-learning toolkits (keras or pytorch) require a numerical $\\mathbf{y}$ vector and to learn how to carry out this conversion."
   ]
  },
  {
   "cell_type": "code",
   "execution_count": 58,
   "metadata": {},
   "outputs": [],
   "source": [
    "# Write your code here\n",
    "y_symbols = set(y_cat)\n",
    "y_symbols_list = list(y_symbols)\n",
    "idx2lang = dict(enumerate(y_symbols_list))\n",
    "lang2idx = {v: k for k, v in idx2lang.items()}"
   ]
  },
  {
   "cell_type": "code",
   "execution_count": 59,
   "metadata": {},
   "outputs": [
    {
     "data": {
      "text/plain": [
       "{0: 'swe', 1: 'dan', 2: 'fra', 3: 'cmn', 4: 'eng', 5: 'jpn'}"
      ]
     },
     "execution_count": 59,
     "metadata": {},
     "output_type": "execute_result"
    }
   ],
   "source": [
    "idx2lang"
   ]
  },
  {
   "cell_type": "code",
   "execution_count": 60,
   "metadata": {},
   "outputs": [
    {
     "data": {
      "text/plain": [
       "{'swe': 0, 'dan': 1, 'fra': 2, 'cmn': 3, 'eng': 4, 'jpn': 5}"
      ]
     },
     "execution_count": 60,
     "metadata": {},
     "output_type": "execute_result"
    }
   ],
   "source": [
    "lang2idx"
   ]
  },
  {
   "cell_type": "markdown",
   "metadata": {},
   "source": [
    "Convert your `y_cat` vector into a numerical vector. Call this vector `y`."
   ]
  },
  {
   "cell_type": "code",
   "execution_count": 61,
   "metadata": {},
   "outputs": [],
   "source": [
    "# Write your code here\n",
    "y = list(map(lambda x: lang2idx[x], y_cat))"
   ]
  },
  {
   "cell_type": "code",
   "execution_count": 62,
   "metadata": {},
   "outputs": [
    {
     "data": {
      "text/plain": [
       "[1, 5, 5, 5, 3]"
      ]
     },
     "execution_count": 62,
     "metadata": {},
     "output_type": "execute_result"
    }
   ],
   "source": [
    "y[:5]"
   ]
  },
  {
   "cell_type": "markdown",
   "metadata": {},
   "source": [
    "## Programming: Building the Model"
   ]
  },
  {
   "cell_type": "markdown",
   "metadata": {},
   "source": [
    "Create a neural network using sklearn with a hidden layer of 50 nodes and a relu activation layer: https://scikit-learn.org/stable/modules/neural_networks_supervised.html. Set the maximal number of iterations to 5, in the beginning, and verbose to True. Use the default values for the rest. You will call your classifier `clf`"
   ]
  },
  {
   "cell_type": "code",
   "execution_count": 63,
   "metadata": {},
   "outputs": [],
   "source": [
    "# Write your code here\n",
    "clf = MLPClassifier(hidden_layer_sizes=50 ,max_iter=5, verbose=True)"
   ]
  },
  {
   "cell_type": "code",
   "execution_count": 64,
   "metadata": {},
   "outputs": [
    {
     "data": {
      "text/html": [
       "<style>#sk-container-id-1 {color: black;}#sk-container-id-1 pre{padding: 0;}#sk-container-id-1 div.sk-toggleable {background-color: white;}#sk-container-id-1 label.sk-toggleable__label {cursor: pointer;display: block;width: 100%;margin-bottom: 0;padding: 0.3em;box-sizing: border-box;text-align: center;}#sk-container-id-1 label.sk-toggleable__label-arrow:before {content: \"▸\";float: left;margin-right: 0.25em;color: #696969;}#sk-container-id-1 label.sk-toggleable__label-arrow:hover:before {color: black;}#sk-container-id-1 div.sk-estimator:hover label.sk-toggleable__label-arrow:before {color: black;}#sk-container-id-1 div.sk-toggleable__content {max-height: 0;max-width: 0;overflow: hidden;text-align: left;background-color: #f0f8ff;}#sk-container-id-1 div.sk-toggleable__content pre {margin: 0.2em;color: black;border-radius: 0.25em;background-color: #f0f8ff;}#sk-container-id-1 input.sk-toggleable__control:checked~div.sk-toggleable__content {max-height: 200px;max-width: 100%;overflow: auto;}#sk-container-id-1 input.sk-toggleable__control:checked~label.sk-toggleable__label-arrow:before {content: \"▾\";}#sk-container-id-1 div.sk-estimator input.sk-toggleable__control:checked~label.sk-toggleable__label {background-color: #d4ebff;}#sk-container-id-1 div.sk-label input.sk-toggleable__control:checked~label.sk-toggleable__label {background-color: #d4ebff;}#sk-container-id-1 input.sk-hidden--visually {border: 0;clip: rect(1px 1px 1px 1px);clip: rect(1px, 1px, 1px, 1px);height: 1px;margin: -1px;overflow: hidden;padding: 0;position: absolute;width: 1px;}#sk-container-id-1 div.sk-estimator {font-family: monospace;background-color: #f0f8ff;border: 1px dotted black;border-radius: 0.25em;box-sizing: border-box;margin-bottom: 0.5em;}#sk-container-id-1 div.sk-estimator:hover {background-color: #d4ebff;}#sk-container-id-1 div.sk-parallel-item::after {content: \"\";width: 100%;border-bottom: 1px solid gray;flex-grow: 1;}#sk-container-id-1 div.sk-label:hover label.sk-toggleable__label {background-color: #d4ebff;}#sk-container-id-1 div.sk-serial::before {content: \"\";position: absolute;border-left: 1px solid gray;box-sizing: border-box;top: 0;bottom: 0;left: 50%;z-index: 0;}#sk-container-id-1 div.sk-serial {display: flex;flex-direction: column;align-items: center;background-color: white;padding-right: 0.2em;padding-left: 0.2em;position: relative;}#sk-container-id-1 div.sk-item {position: relative;z-index: 1;}#sk-container-id-1 div.sk-parallel {display: flex;align-items: stretch;justify-content: center;background-color: white;position: relative;}#sk-container-id-1 div.sk-item::before, #sk-container-id-1 div.sk-parallel-item::before {content: \"\";position: absolute;border-left: 1px solid gray;box-sizing: border-box;top: 0;bottom: 0;left: 50%;z-index: -1;}#sk-container-id-1 div.sk-parallel-item {display: flex;flex-direction: column;z-index: 1;position: relative;background-color: white;}#sk-container-id-1 div.sk-parallel-item:first-child::after {align-self: flex-end;width: 50%;}#sk-container-id-1 div.sk-parallel-item:last-child::after {align-self: flex-start;width: 50%;}#sk-container-id-1 div.sk-parallel-item:only-child::after {width: 0;}#sk-container-id-1 div.sk-dashed-wrapped {border: 1px dashed gray;margin: 0 0.4em 0.5em 0.4em;box-sizing: border-box;padding-bottom: 0.4em;background-color: white;}#sk-container-id-1 div.sk-label label {font-family: monospace;font-weight: bold;display: inline-block;line-height: 1.2em;}#sk-container-id-1 div.sk-label-container {text-align: center;}#sk-container-id-1 div.sk-container {/* jupyter's `normalize.less` sets `[hidden] { display: none; }` but bootstrap.min.css set `[hidden] { display: none !important; }` so we also need the `!important` here to be able to override the default hidden behavior on the sphinx rendered scikit-learn.org. See: https://github.com/scikit-learn/scikit-learn/issues/21755 */display: inline-block !important;position: relative;}#sk-container-id-1 div.sk-text-repr-fallback {display: none;}</style><div id=\"sk-container-id-1\" class=\"sk-top-container\"><div class=\"sk-text-repr-fallback\"><pre>MLPClassifier(hidden_layer_sizes=50, max_iter=5, verbose=True)</pre><b>In a Jupyter environment, please rerun this cell to show the HTML representation or trust the notebook. <br />On GitHub, the HTML representation is unable to render, please try loading this page with nbviewer.org.</b></div><div class=\"sk-container\" hidden><div class=\"sk-item\"><div class=\"sk-estimator sk-toggleable\"><input class=\"sk-toggleable__control sk-hidden--visually\" id=\"sk-estimator-id-1\" type=\"checkbox\" checked><label for=\"sk-estimator-id-1\" class=\"sk-toggleable__label sk-toggleable__label-arrow\">MLPClassifier</label><div class=\"sk-toggleable__content\"><pre>MLPClassifier(hidden_layer_sizes=50, max_iter=5, verbose=True)</pre></div></div></div></div></div>"
      ],
      "text/plain": [
       "MLPClassifier(hidden_layer_sizes=50, max_iter=5, verbose=True)"
      ]
     },
     "execution_count": 64,
     "metadata": {},
     "output_type": "execute_result"
    }
   ],
   "source": [
    "clf"
   ]
  },
  {
   "cell_type": "markdown",
   "metadata": {},
   "source": [
    "### Training and Validation Sets"
   ]
  },
  {
   "cell_type": "markdown",
   "metadata": {},
   "source": [
    "You will now split the dataset into a training and validation sets"
   ]
  },
  {
   "cell_type": "markdown",
   "metadata": {},
   "source": [
    "#### We split the dataset\n",
    "We use a training set of 80% and a validation set of 20%"
   ]
  },
  {
   "cell_type": "code",
   "execution_count": 65,
   "metadata": {},
   "outputs": [
    {
     "data": {
      "text/plain": [
       "array([[0., 0., 0., ..., 0., 0., 0.],\n",
       "       [0., 0., 0., ..., 0., 0., 0.],\n",
       "       [0., 0., 0., ..., 0., 0., 0.],\n",
       "       ...,\n",
       "       [0., 0., 0., ..., 0., 0., 0.],\n",
       "       [0., 0., 0., ..., 0., 0., 0.],\n",
       "       [0., 0., 0., ..., 0., 0., 0.]])"
      ]
     },
     "execution_count": 65,
     "metadata": {},
     "output_type": "execute_result"
    }
   ],
   "source": [
    "training_examples = int(X.shape[0] * 0.8)\n",
    "\n",
    "X_train = X[:training_examples, :]\n",
    "y_train = y[:training_examples]\n",
    "\n",
    "X_val = X[training_examples:, :]\n",
    "y_val = y[training_examples:]\n",
    "\n",
    "X_val"
   ]
  },
  {
   "cell_type": "markdown",
   "metadata": {
    "tags": []
   },
   "source": [
    "### Fitting the model"
   ]
  },
  {
   "cell_type": "markdown",
   "metadata": {},
   "source": [
    "Fit the model on the training set"
   ]
  },
  {
   "cell_type": "code",
   "execution_count": 66,
   "metadata": {},
   "outputs": [
    {
     "name": "stdout",
     "output_type": "stream",
     "text": [
      "Iteration 1, loss = 0.28322136\n",
      "Iteration 2, loss = 0.03695551\n",
      "Iteration 3, loss = 0.02621839\n",
      "Iteration 4, loss = 0.02178995\n",
      "Iteration 5, loss = 0.01917231\n"
     ]
    },
    {
     "name": "stderr",
     "output_type": "stream",
     "text": [
      "/home/jonatan/anaconda/lib/python3.11/site-packages/sklearn/neural_network/_multilayer_perceptron.py:691: ConvergenceWarning: Stochastic Optimizer: Maximum iterations (5) reached and the optimization hasn't converged yet.\n",
      "  warnings.warn(\n"
     ]
    }
   ],
   "source": [
    "# Write your code here\n",
    "model = clf.fit(X_train, y_train)"
   ]
  },
  {
   "cell_type": "markdown",
   "metadata": {},
   "source": [
    "## Predicting"
   ]
  },
  {
   "cell_type": "markdown",
   "metadata": {},
   "source": [
    "Predict the `X_val` languages. You will call the result `y_val_pred`"
   ]
  },
  {
   "cell_type": "code",
   "execution_count": 67,
   "metadata": {},
   "outputs": [],
   "source": [
    "# Write your code here\n",
    "y_val_pred = model.predict(X_val)"
   ]
  },
  {
   "cell_type": "code",
   "execution_count": 68,
   "metadata": {},
   "outputs": [
    {
     "data": {
      "text/plain": [
       "array([3, 3, 3, 0, 5, 0, 5, 5, 1, 4, 4, 0, 5, 3, 1, 1, 5, 4, 5, 4])"
      ]
     },
     "execution_count": 68,
     "metadata": {},
     "output_type": "execute_result"
    }
   ],
   "source": [
    "y_val_pred[:20]"
   ]
  },
  {
   "cell_type": "code",
   "execution_count": 69,
   "metadata": {},
   "outputs": [
    {
     "data": {
      "text/plain": [
       "[3, 3, 3, 0, 5, 0, 5, 5, 1, 4, 4, 0, 5, 3, 1, 1, 5, 4, 5, 4]"
      ]
     },
     "execution_count": 69,
     "metadata": {},
     "output_type": "execute_result"
    }
   ],
   "source": [
    "y_val[:20]"
   ]
  },
  {
   "cell_type": "markdown",
   "metadata": {},
   "source": [
    "#### Evaluating"
   ]
  },
  {
   "cell_type": "markdown",
   "metadata": {},
   "source": [
    "Use the `accuracy_score()` function to evaluate your model on the validation set"
   ]
  },
  {
   "cell_type": "code",
   "execution_count": 70,
   "metadata": {},
   "outputs": [
    {
     "data": {
      "text/plain": [
       "0.9918"
      ]
     },
     "execution_count": 70,
     "metadata": {},
     "output_type": "execute_result"
    }
   ],
   "source": [
    "# evaluate the model\n",
    "accuracy_score(y_val, y_val_pred)"
   ]
  },
  {
   "cell_type": "code",
   "execution_count": 71,
   "metadata": {},
   "outputs": [
    {
     "name": "stdout",
     "output_type": "stream",
     "text": [
      "              precision    recall  f1-score   support\n",
      "\n",
      "         swe       0.98      0.98      0.98     10066\n",
      "         dan       0.97      0.98      0.98      9963\n",
      "         fra       1.00      1.00      1.00     10041\n",
      "         cmn       1.00      1.00      1.00      9866\n",
      "         eng       1.00      1.00      1.00     10059\n",
      "         jpn       1.00      1.00      1.00     10005\n",
      "\n",
      "    accuracy                           0.99     60000\n",
      "   macro avg       0.99      0.99      0.99     60000\n",
      "weighted avg       0.99      0.99      0.99     60000\n",
      "\n",
      "Micro F1: 0.9918\n",
      "Macro F1 0.9918136393339484\n"
     ]
    }
   ],
   "source": [
    "print(classification_report(y_val, y_val_pred, target_names=y_symbols))\n",
    "print('Micro F1:', f1_score(y_val, y_val_pred, average='micro'))\n",
    "print('Macro F1', f1_score(y_val, y_val_pred, average='macro'))"
   ]
  },
  {
   "cell_type": "markdown",
   "metadata": {},
   "source": [
    "### Confusion Matrix"
   ]
  },
  {
   "cell_type": "code",
   "execution_count": 72,
   "metadata": {},
   "outputs": [
    {
     "data": {
      "text/plain": [
       "array([[ 9815,   243,     5,     0,     3,     0],\n",
       "       [  139,  9803,     1,     0,    20,     0],\n",
       "       [    2,     7, 10022,     0,    10,     0],\n",
       "       [    7,     6,     0,  9840,     2,    11],\n",
       "       [    4,    18,     7,     0, 10030,     0],\n",
       "       [    0,     1,     0,     5,     1,  9998]])"
      ]
     },
     "execution_count": 72,
     "metadata": {},
     "output_type": "execute_result"
    }
   ],
   "source": [
    "confusion_matrix(y_val, y_val_pred)"
   ]
  },
  {
   "cell_type": "markdown",
   "metadata": {},
   "source": [
    "You may try to increase the number of iterations to improve the score. You may also try change the parameters of the multilayer percetron."
   ]
  },
  {
   "cell_type": "markdown",
   "metadata": {},
   "source": [
    "## Predict the language of a text"
   ]
  },
  {
   "cell_type": "markdown",
   "metadata": {},
   "source": [
    "Now you will predict the languages of the strings below."
   ]
  },
  {
   "cell_type": "code",
   "execution_count": 73,
   "metadata": {},
   "outputs": [],
   "source": [
    "docs = [\"Salut les gars !\", \"Hejsan grabbar!\", \"Hello guys!\", \"Hejsan tjejer!\"]"
   ]
  },
  {
   "cell_type": "code",
   "execution_count": 74,
   "metadata": {},
   "outputs": [
    {
     "data": {
      "text/plain": [
       "{331: 0.1875,\n",
       " 234: 0.125,\n",
       " 15: 0.125,\n",
       " 69: 0.0625,\n",
       " 432: 0.0625,\n",
       " 86: 0.1875,\n",
       " 32: 0.0625,\n",
       " 31: 0.0625,\n",
       " 437: 0.0625,\n",
       " 333: 0.0625,\n",
       " 1078: 0.06666666666666667,\n",
       " 640: 0.06666666666666667,\n",
       " 582: 0.06666666666666667,\n",
       " 1542: 0.06666666666666667,\n",
       " 1492: 0.06666666666666667,\n",
       " 900: 0.06666666666666667,\n",
       " 739: 0.06666666666666667,\n",
       " 1319: 0.06666666666666667,\n",
       " 1238: 0.13333333333333333,\n",
       " 982: 0.06666666666666667,\n",
       " 1415: 0.06666666666666667,\n",
       " 557: 0.06666666666666667,\n",
       " 1161: 0.06666666666666667,\n",
       " 1020: 0.06666666666666667,\n",
       " 1803: 0.07142857142857142,\n",
       " 1608: 0.07142857142857142,\n",
       " 2199: 0.07142857142857142,\n",
       " 2349: 0.07142857142857142,\n",
       " 2284: 0.07142857142857142,\n",
       " 1958: 0.07142857142857142,\n",
       " 1720: 0.07142857142857142,\n",
       " 1925: 0.07142857142857142,\n",
       " 2370: 0.07142857142857142,\n",
       " 2546: 0.07142857142857142,\n",
       " 1752: 0.07142857142857142,\n",
       " 1805: 0.07142857142857142,\n",
       " 1670: 0.07142857142857142,\n",
       " 2269: 0.07142857142857142}"
      ]
     },
     "execution_count": 74,
     "metadata": {},
     "output_type": "execute_result"
    }
   ],
   "source": [
    "build_freq_dict('Salut les gars !')"
   ]
  },
  {
   "cell_type": "markdown",
   "metadata": {},
   "source": [
    "Create features vectors from this list. Call this matrix `X_test`"
   ]
  },
  {
   "cell_type": "code",
   "execution_count": 75,
   "metadata": {},
   "outputs": [],
   "source": [
    "# Write your code here\n",
    "X_test = []\n",
    "for i in docs:\n",
    "    X_test.append(build_freq_dict(i))\n",
    "X_2 = v.transform(X_test)"
   ]
  },
  {
   "cell_type": "code",
   "execution_count": null,
   "metadata": {},
   "outputs": [],
   "source": []
  },
  {
   "cell_type": "code",
   "execution_count": 76,
   "metadata": {},
   "outputs": [
    {
     "data": {
      "text/plain": [
       "(4, 2583)"
      ]
     },
     "execution_count": 76,
     "metadata": {},
     "output_type": "execute_result"
    }
   ],
   "source": [
    "X_2.shape"
   ]
  },
  {
   "cell_type": "markdown",
   "metadata": {},
   "source": [
    "And run the prediction that you will store in a variable called `pred_languages`"
   ]
  },
  {
   "cell_type": "code",
   "execution_count": 77,
   "metadata": {},
   "outputs": [],
   "source": [
    "# Write your code here\n",
    "pred_languages = list(map(lambda x: idx2lang[x], model.predict(X_2)))"
   ]
  },
  {
   "cell_type": "code",
   "execution_count": 78,
   "metadata": {},
   "outputs": [
    {
     "data": {
      "text/plain": [
       "['fra', 'swe', 'eng', 'dan']"
      ]
     },
     "execution_count": 78,
     "metadata": {},
     "output_type": "execute_result"
    }
   ],
   "source": [
    "pred_languages"
   ]
  },
  {
   "cell_type": "markdown",
   "metadata": {},
   "source": [
    "## Building the Model with PyTorch\n",
    "You will now recreate a PyTorch model with the same architecture as in sklearn."
   ]
  },
  {
   "cell_type": "markdown",
   "metadata": {},
   "source": [
    "### The Model\n",
    "Create a model identical to the one you created with sklearn. Use the same activation function for the hidden layer and no activation in the last layer."
   ]
  },
  {
   "cell_type": "code",
   "execution_count": 79,
   "metadata": {},
   "outputs": [
    {
     "data": {
      "text/plain": [
       "6"
      ]
     },
     "execution_count": 79,
     "metadata": {},
     "output_type": "execute_result"
    }
   ],
   "source": [
    "len(langs)"
   ]
  },
  {
   "cell_type": "code",
   "execution_count": 87,
   "metadata": {},
   "outputs": [],
   "source": [
    "# Write your code here\n",
    "class Model(nn.Module):\n",
    "    def __init__(self, input_dim):\n",
    "        super(Model, self).__init__()\n",
    "        self.fc1 = nn.Linear(input_dim, 50)\n",
    "        self.fc2 = nn.Linear(50, len(langs))\n",
    "    \n",
    "    def forward(self, x):\n",
    "        x = F.relu(self.fc1(x))\n",
    "        x = self.fc2(x)\n",
    "        return x\n",
    "    \n",
    "\n",
    "        "
   ]
  },
  {
   "cell_type": "code",
   "execution_count": 88,
   "metadata": {},
   "outputs": [
    {
     "data": {
      "text/plain": [
       "Model(\n",
       "  (fc1): Linear(in_features=2583, out_features=50, bias=True)\n",
       "  (fc2): Linear(in_features=50, out_features=6, bias=True)\n",
       ")"
      ]
     },
     "execution_count": 88,
     "metadata": {},
     "output_type": "execute_result"
    }
   ],
   "source": [
    "input_dim = X.shape[1]\n",
    "model = Model(input_dim)\n",
    "model"
   ]
  },
  {
   "cell_type": "markdown",
   "metadata": {},
   "source": [
    "Write the loss `loss_fn` and optimizer `optimizer`. As optimizer, use the same as in sklearn. See here: https://scikit-learn.org/stable/modules/generated/sklearn.neural_network.MLPClassifier.html"
   ]
  },
  {
   "cell_type": "code",
   "execution_count": 89,
   "metadata": {},
   "outputs": [],
   "source": [
    "# Write your code here. (The solution is given)\n",
    "loss_fn = nn.CrossEntropyLoss()    # cross entropy loss\n",
    "optimizer = torch.optim.Adam(model.parameters(), lr=0.001)"
   ]
  },
  {
   "cell_type": "markdown",
   "metadata": {},
   "source": [
    "### The data loader"
   ]
  },
  {
   "cell_type": "markdown",
   "metadata": {},
   "source": [
    "We convert the data to tensors"
   ]
  },
  {
   "cell_type": "code",
   "execution_count": 90,
   "metadata": {},
   "outputs": [],
   "source": [
    "X_train = torch.Tensor(X_train)\n",
    "y_train = torch.LongTensor(y_train)\n",
    "\n",
    "X_val = torch.Tensor(X_val)\n",
    "y_val = torch.LongTensor(y_val)\n",
    "\n",
    "X_2 = torch.Tensor(X_2)"
   ]
  },
  {
   "cell_type": "code",
   "execution_count": 91,
   "metadata": {},
   "outputs": [],
   "source": [
    "from torch.utils.data import TensorDataset, DataLoader\n",
    "\n",
    "dataset = TensorDataset(X_train, y_train)\n",
    "dataloader = DataLoader(dataset, batch_size=32, shuffle=True)"
   ]
  },
  {
   "cell_type": "code",
   "execution_count": 92,
   "metadata": {},
   "outputs": [
    {
     "data": {
      "text/plain": [
       "Model(\n",
       "  (fc1): Linear(in_features=2583, out_features=50, bias=True)\n",
       "  (fc2): Linear(in_features=50, out_features=6, bias=True)\n",
       ")"
      ]
     },
     "execution_count": 92,
     "metadata": {},
     "output_type": "execute_result"
    }
   ],
   "source": [
    "model.train()"
   ]
  },
  {
   "cell_type": "markdown",
   "metadata": {},
   "source": [
    "Fit your network on your training set. Write a code similar to that seen during the lecture and use five epochs to start with."
   ]
  },
  {
   "cell_type": "code",
   "execution_count": 93,
   "metadata": {},
   "outputs": [
    {
     "name": "stdout",
     "output_type": "stream",
     "text": [
      "726.6003119733941\n",
      "149.3065166273591\n",
      "120.19755977327532\n",
      "102.37031644777517\n",
      "90.48539036102903\n"
     ]
    }
   ],
   "source": [
    "# Write your code here\n",
    "for epoch in range(5):\n",
    "    loss_train = 0\n",
    "    for X_batch, y_batch in dataloader:\n",
    "        y_batch_pred = model(X_batch)\n",
    "        loss = loss_fn(y_batch_pred, y_batch)\n",
    "        optimizer.zero_grad()\n",
    "        loss.backward()\n",
    "        optimizer.step()\n",
    "        loss_train += loss.item()\n",
    "    print(loss_train)"
   ]
  },
  {
   "cell_type": "markdown",
   "metadata": {},
   "source": [
    "Predict the validation set `X_val` in the form of logits. Call the result: `Y_val_pred_logits`"
   ]
  },
  {
   "cell_type": "code",
   "execution_count": 94,
   "metadata": {},
   "outputs": [
    {
     "data": {
      "text/plain": [
       "Model(\n",
       "  (fc1): Linear(in_features=2583, out_features=50, bias=True)\n",
       "  (fc2): Linear(in_features=50, out_features=6, bias=True)\n",
       ")"
      ]
     },
     "execution_count": 94,
     "metadata": {},
     "output_type": "execute_result"
    }
   ],
   "source": [
    "model.eval()"
   ]
  },
  {
   "cell_type": "code",
   "execution_count": 97,
   "metadata": {},
   "outputs": [],
   "source": [
    "# Write your code here\n",
    "Y_val_pred_logits = model(X_val)"
   ]
  },
  {
   "cell_type": "code",
   "execution_count": 98,
   "metadata": {},
   "outputs": [
    {
     "data": {
      "text/plain": [
       "tensor([[-11.6713,  -5.9205,  -8.7120,  15.3056, -15.4852,   2.3609],\n",
       "        [-12.2138,  -6.6449,  -6.4395,  13.9440,  -9.4918,   1.6138],\n",
       "        [ -1.3285, -15.5488, -10.5047,  13.8485,  -9.1206,   2.3544],\n",
       "        [ 10.2528,  -2.0747, -13.8516,  -9.5763, -10.2802, -13.5591],\n",
       "        [-10.7569,  -8.6204, -10.9065,  -3.5733,  -8.7299,  20.8561]],\n",
       "       grad_fn=<SliceBackward0>)"
      ]
     },
     "execution_count": 98,
     "metadata": {},
     "output_type": "execute_result"
    }
   ],
   "source": [
    "Y_val_pred_logits[:5]"
   ]
  },
  {
   "cell_type": "markdown",
   "metadata": {},
   "source": [
    "Predict the validation set `X_val` in the form of probabilities. Use `torch.softmax()` for that and call the result: `Y_val_pred_proba`"
   ]
  },
  {
   "cell_type": "code",
   "execution_count": 100,
   "metadata": {},
   "outputs": [],
   "source": [
    "# Write your code here\n",
    "Y_val_pred_proba = F.softmax(Y_val_pred_logits, dim=-1)"
   ]
  },
  {
   "cell_type": "code",
   "execution_count": 101,
   "metadata": {},
   "outputs": [
    {
     "data": {
      "text/plain": [
       "tensor([[1.9234e-12, 6.0478e-10, 3.7093e-11, 1.0000e+00, 4.2435e-14, 2.3888e-06],\n",
       "        [4.3633e-12, 1.1438e-09, 1.4046e-09, 1.0000e+00, 6.6368e-11, 4.4163e-06],\n",
       "        [2.5629e-07, 1.7097e-13, 2.6518e-11, 9.9999e-01, 1.0584e-10, 1.0190e-05],\n",
       "        [1.0000e+00, 4.4282e-06, 3.4007e-11, 2.4452e-09, 1.2095e-09, 4.5560e-11]],\n",
       "       grad_fn=<SliceBackward0>)"
      ]
     },
     "execution_count": 101,
     "metadata": {},
     "output_type": "execute_result"
    }
   ],
   "source": [
    "Y_val_pred_proba[:4]"
   ]
  },
  {
   "cell_type": "markdown",
   "metadata": {},
   "source": [
    "Extract the categories from the probabilities in `Y_val_pred_proba`. Use the `torch.argmax()` function. Call the result `y_val_pred`. Check that the prediction corresponds to the real values."
   ]
  },
  {
   "cell_type": "code",
   "execution_count": 102,
   "metadata": {},
   "outputs": [],
   "source": [
    "# Write your code here\n",
    "y_val_pred = torch.argmax(Y_val_pred_proba, dim=-1)"
   ]
  },
  {
   "cell_type": "code",
   "execution_count": 103,
   "metadata": {},
   "outputs": [
    {
     "data": {
      "text/plain": [
       "tensor([3, 3, 3, 0, 5, 0, 5, 5, 1, 4, 4, 0, 5, 3, 1, 1, 5, 4, 5, 4])"
      ]
     },
     "execution_count": 103,
     "metadata": {},
     "output_type": "execute_result"
    }
   ],
   "source": [
    "y_val_pred[:20]"
   ]
  },
  {
   "cell_type": "code",
   "execution_count": 104,
   "metadata": {},
   "outputs": [
    {
     "data": {
      "text/plain": [
       "tensor([3, 3, 3, 0, 5, 0, 5, 5, 1, 4, 4, 0, 5, 3, 1, 1, 5, 4, 5, 4])"
      ]
     },
     "execution_count": 104,
     "metadata": {},
     "output_type": "execute_result"
    }
   ],
   "source": [
    "y_val[:20]"
   ]
  },
  {
   "cell_type": "markdown",
   "metadata": {},
   "source": [
    "Print the evaluation"
   ]
  },
  {
   "cell_type": "code",
   "execution_count": 105,
   "metadata": {},
   "outputs": [
    {
     "name": "stdout",
     "output_type": "stream",
     "text": [
      "              precision    recall  f1-score   support\n",
      "\n",
      "         swe       0.99      0.98      0.98     10066\n",
      "         dan       0.97      0.99      0.98      9963\n",
      "         fra       1.00      1.00      1.00     10041\n",
      "         cmn       1.00      1.00      1.00      9866\n",
      "         eng       1.00      1.00      1.00     10059\n",
      "         jpn       1.00      1.00      1.00     10005\n",
      "\n",
      "    accuracy                           0.99     60000\n",
      "   macro avg       0.99      0.99      0.99     60000\n",
      "weighted avg       0.99      0.99      0.99     60000\n",
      "\n",
      "Micro F1: 0.9928333333333333\n",
      "Macro F1 0.9928452805163838\n"
     ]
    }
   ],
   "source": [
    "print(classification_report(y_val, y_val_pred, target_names=y_symbols))\n",
    "print('Micro F1:', f1_score(y_val, y_val_pred, average='micro'))\n",
    "print('Macro F1', f1_score(y_val, y_val_pred, average='macro'))"
   ]
  },
  {
   "cell_type": "markdown",
   "metadata": {},
   "source": [
    "Print the confusion matrix"
   ]
  },
  {
   "cell_type": "code",
   "execution_count": 106,
   "metadata": {},
   "outputs": [
    {
     "data": {
      "text/plain": [
       "array([[ 9819,   237,     5,     0,     5,     0],\n",
       "       [  106,  9845,     1,     0,    11,     0],\n",
       "       [    2,     7, 10027,     0,     5,     0],\n",
       "       [    1,     2,     1,  9848,     2,    12],\n",
       "       [    4,    19,     5,     0, 10031,     0],\n",
       "       [    0,     0,     0,     5,     0, 10000]])"
      ]
     },
     "execution_count": 106,
     "metadata": {},
     "output_type": "execute_result"
    }
   ],
   "source": [
    "confusion_matrix(y_val, y_val_pred)"
   ]
  },
  {
   "cell_type": "markdown",
   "metadata": {},
   "source": [
    "Predict your languages with PyTorch. Reuse `X_test` and call the result `Y_test_pred_proba`."
   ]
  },
  {
   "cell_type": "code",
   "execution_count": 107,
   "metadata": {},
   "outputs": [],
   "source": [
    "# Write your code here\n",
    "Y_test_pred_proba = F.softmax(model(X_2), dim=-1)"
   ]
  },
  {
   "cell_type": "code",
   "execution_count": 108,
   "metadata": {},
   "outputs": [
    {
     "data": {
      "text/plain": [
       "tensor([[3.4079e-06, 8.1188e-07, 9.9999e-01, 1.0700e-08, 5.0348e-06, 2.0433e-09],\n",
       "        [9.9940e-01, 5.3867e-04, 4.1682e-06, 2.3007e-05, 2.9710e-05, 3.4907e-07],\n",
       "        [5.7848e-05, 8.5325e-03, 5.7842e-04, 4.2217e-05, 9.9079e-01, 1.6197e-06],\n",
       "        [2.8964e-04, 9.9970e-01, 2.3688e-06, 1.1637e-05, 1.1145e-07, 3.4991e-07]],\n",
       "       grad_fn=<SoftmaxBackward0>)"
      ]
     },
     "execution_count": 108,
     "metadata": {},
     "output_type": "execute_result"
    }
   ],
   "source": [
    "Y_test_pred_proba"
   ]
  },
  {
   "cell_type": "markdown",
   "metadata": {},
   "source": [
    "From the probabilities, extract the predicted languages and map them to strings. Call the results `pred_languages_pytorch`."
   ]
  },
  {
   "cell_type": "code",
   "execution_count": 118,
   "metadata": {},
   "outputs": [],
   "source": [
    "# Write your code here\n",
    "y_test_pred = torch.argmax(Y_test_pred_proba, dim=-1).tolist()\n",
    "pred_languages_pytorch = list(map(lambda x: idx2lang[x], y_test_pred))"
   ]
  },
  {
   "cell_type": "code",
   "execution_count": 119,
   "metadata": {},
   "outputs": [
    {
     "data": {
      "text/plain": [
       "['fra', 'swe', 'eng', 'dan']"
      ]
     },
     "execution_count": 119,
     "metadata": {},
     "output_type": "execute_result"
    }
   ],
   "source": [
    "pred_languages_pytorch"
   ]
  },
  {
   "cell_type": "markdown",
   "metadata": {},
   "source": [
    "## Turning in your assignment"
   ]
  },
  {
   "cell_type": "markdown",
   "metadata": {},
   "source": [
    "Now your are done with the program. To complete this assignment, you will:\n",
    "1. Write a short individual report on your program. Do not forget to:\n",
    "   * Summarize CLD3 and outline its architecture\n",
    "   * Identify the features used by CLD3\n",
    "   * Describe your architecture and tell how it is different from CLD3\n",
    "   * Include the feature matrix you computed manually\n",
    "   * Outline the differences between sklearn and PyTorch\n",
    "\n",
    "Submit your report as well as your notebook (for archiving purposes) to Canvas: https://canvas.education.lu.se/. To write your report, you can either\n",
    "1. Write directly your text in Canvas, or\n",
    "2. Use Latex and Overleaf (www.overleaf.com). This will probably help you structure your text. You will then upload a PDF file in Canvas.\n",
    "\n",
    "The submission deadline is October 6, 2023."
   ]
  },
  {
   "cell_type": "markdown",
   "metadata": {},
   "source": [
    "## Postscript from Pierre Nugues"
   ]
  },
  {
   "cell_type": "markdown",
   "metadata": {},
   "source": [
    "I created this assignment from an examination I wrote in 2019 for the course on applied machine learning. I simplified it from the `README.md` on GitHub, https://github.com/google/cld3. I found the C++ code difficult to understand and I reimplemented a Keras/Tensorflow version of it from this `README`. Should you be interested, you can find it here: https://github.com/pnugues/language-detector."
   ]
  },
  {
   "cell_type": "code",
   "execution_count": null,
   "metadata": {},
   "outputs": [],
   "source": []
  }
 ],
 "metadata": {
  "kernelspec": {
   "display_name": "base",
   "language": "python",
   "name": "python3"
  },
  "language_info": {
   "codemirror_mode": {
    "name": "ipython",
    "version": 3
   },
   "file_extension": ".py",
   "mimetype": "text/x-python",
   "name": "python",
   "nbconvert_exporter": "python",
   "pygments_lexer": "ipython3",
   "version": "3.11.4"
  },
  "vscode": {
   "interpreter": {
    "hash": "53ee23718d2bcf1af1766f3e98f515329dbc39d81754953a3738973220de123a"
   }
  }
 },
 "nbformat": 4,
 "nbformat_minor": 4
}

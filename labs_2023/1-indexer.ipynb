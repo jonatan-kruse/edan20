{
 "cells": [
  {
   "cell_type": "markdown",
   "metadata": {},
   "source": [
    "# Assignment #1: Building an inverted index\n",
    "Author: Pierre Nugues"
   ]
  },
  {
   "cell_type": "markdown",
   "metadata": {},
   "source": [
    "## Objectives"
   ]
  },
  {
   "cell_type": "markdown",
   "metadata": {},
   "source": [
    "The objectives of this assignment are to:\n",
    "* Write a program that collects all the words from a set of documents\n",
    "* Build an index from the words\n",
    "* Represent a document using the Tf.Idf values\n",
    "* Write a short report of 1 to 2 pages on the assignment\n",
    "* Read a description of an industrial system and answer a question on it"
   ]
  },
  {
   "cell_type": "markdown",
   "metadata": {},
   "source": [
    "## Submission"
   ]
  },
  {
   "cell_type": "markdown",
   "metadata": {},
   "source": [
    "When you have written all the missing code and run all the cells, you will show your notebook to one of the assistants to register that you have passed.\n",
    "\n",
    "In case, we do not have enough assistants, you will possibly submit your notebook to an automatic marking system. More information on this later if we need it. Do not erase the content of the cells as we will possibly check your programs manually.\n",
    "The submission instructions are at the bottom of the notebook."
   ]
  },
  {
   "cell_type": "markdown",
   "metadata": {},
   "source": [
    "## Description of the assignment"
   ]
  },
  {
   "cell_type": "markdown",
   "metadata": {},
   "source": [
    "### Outline"
   ]
  },
  {
   "cell_type": "markdown",
   "metadata": {},
   "source": [
    "In this lab, you will build an indexer to index all the words in a corpus. Conceptually, an index consists of rows with one word per row and the list of files and positions, where this word occurs. Such a row is called a _posting list_. You will encode the position of a word by the number of characters from the start of the file.\n",
    "<pre>\n",
    "word1: file_name pos1 pos2 pos3... file_name pos1 pos2 ...\n",
    "word2: file_name pos1 pos2 pos3... file_name pos1 pos2 ...\n",
    "...\n",
    "</pre>"
   ]
  },
  {
   "cell_type": "markdown",
   "metadata": {},
   "source": [
    "#### Imports"
   ]
  },
  {
   "cell_type": "markdown",
   "metadata": {},
   "source": [
    "Some imports. Add others as needed"
   ]
  },
  {
   "cell_type": "code",
   "execution_count": 1,
   "metadata": {},
   "outputs": [],
   "source": [
    "import bz2\n",
    "import math\n",
    "import os\n",
    "import pickle\n",
    "import regex as re\n",
    "import requests\n",
    "import sys\n",
    "import time\n",
    "from zipfile import ZipFile"
   ]
  },
  {
   "cell_type": "markdown",
   "metadata": {},
   "source": [
    "## Corpus"
   ]
  },
  {
   "cell_type": "markdown",
   "metadata": {},
   "source": [
    "You will create an index for a corpus of Selma Lagerlöf's works: To gather the corpus, you can alternatively:\n",
    "1. Download the <a href=\"https://github.com/pnugues/ilppp/raw/master/programs/corpus/Selma.zip\">Selma folder</a> and uncompress it. It contains novels by <a href=\"https://sv.wikipedia.org/wiki/Selma_Lagerl%C3%B6f\">Selma Lagerlöf</a>. The text of these novels was extracted from <a href=\"https://litteraturbanken.se/forfattare/LagerlofS/titlar\">Lagerlöf arkivet</a> at <a href=\"https://litteraturbanken.se/\">Litteraturbanken</a>.\n",
    "2. Or run this cell that will download the corpus and place it in your folder."
   ]
  },
  {
   "cell_type": "code",
   "execution_count": 2,
   "metadata": {},
   "outputs": [
    {
     "name": "stdout",
     "output_type": "stream",
     "text": [
      "Selma has been downloaded.\n"
     ]
    },
    {
     "data": {
      "text/plain": [
       "['Selma/bannlyst.txt',\n",
       " 'Selma/gosta.txt',\n",
       " 'Selma/herrgard.txt',\n",
       " 'Selma/jerusalem.txt',\n",
       " 'Selma/kejsaren.txt',\n",
       " 'Selma/marbacka.txt',\n",
       " 'Selma/nils.txt',\n",
       " 'Selma/osynliga.txt',\n",
       " 'Selma/troll.txt']"
      ]
     },
     "execution_count": 2,
     "metadata": {},
     "output_type": "execute_result"
    }
   ],
   "source": [
    "# Parameters for Selma dataset\n",
    "SELMA_URL = \"https://github.com/pnugues/ilppp/raw/master/programs/corpus/Selma.zip\"\n",
    "\n",
    "SELMA_FILES = [\n",
    "    os.path.join(\"Selma\", fname) \n",
    "    for fname in \n",
    "    [\n",
    "        \"bannlyst.txt\", \n",
    "        \"gosta.txt\", \n",
    "        \"herrgard.txt\", \n",
    "        \"jerusalem.txt\", \n",
    "        \"kejsaren.txt\", \n",
    "        \"marbacka.txt\", \n",
    "        \"nils.txt\", \n",
    "        \"osynliga.txt\", \n",
    "        \"troll.txt\"\n",
    "    ]\n",
    "]\n",
    "\n",
    "def download_and_extract_selma():\n",
    "    \"\"\"Downloads and unpacks Selma.zip\"\"\"\n",
    "    \n",
    "    # Download if not all files exist\n",
    "    req = requests.get(SELMA_URL, stream=True)\n",
    "    if req.status_code != 200:\n",
    "        print(\"Failed to download file, got status: \" + req.status_code)\n",
    "        req.close()\n",
    "    else:\n",
    "        with open(\"Selma.zip\", \"wb\") as fd:\n",
    "            written = 0\n",
    "            for chunk in req.iter_content(chunk_size=65536):\n",
    "                fd.write(chunk)\n",
    "                written += len(chunk)\n",
    "                print(\"Downloading: %d bytes written to Selma.zip\" % written)\n",
    "\n",
    "        print(\"Selma.zip downloaded.\")\n",
    "        req.close()\n",
    "        \n",
    "        selma_zipfile = ZipFile(\"Selma.zip\")\n",
    "        selma_files_to_extract = [zi for zi in selma_zipfile.filelist if not zi.filename.startswith(\"__\") and zi.filename.endswith(\".txt\")]\n",
    "        for zi in selma_files_to_extract:\n",
    "            selma_zipfile.extract(zi)\n",
    "            print(\"Extracted: \" + zi.filename)\n",
    "            \n",
    "        print(\"Done!\")\n",
    "        \n",
    "# If not all path exists (all are true), then download\n",
    "if not all([os.path.exists(fname) for fname in SELMA_FILES]):\n",
    "    download_and_extract_selma()\n",
    "else:\n",
    "    print(\"Selma has been downloaded.\")\n",
    "    \n",
    "SELMA_FILES"
   ]
  },
  {
   "cell_type": "markdown",
   "metadata": {},
   "source": [
    "### Running the indexer (optional)"
   ]
  },
  {
   "cell_type": "markdown",
   "metadata": {},
   "source": [
    "In a production context, your final program would take a corpus as input (here the Selma Lagerlöf's novels) and create an index of all the words with their positions. You should be able to run it this way:\n",
    "<pre>$ python indexer.py folder_name</pre>\n",
    "In this lab, you will write the index in a Jupyter Notebook. The conversion into a Python program is left as an optional exercise."
   ]
  },
  {
   "cell_type": "markdown",
   "metadata": {},
   "source": [
    "## Programming the Indexer"
   ]
  },
  {
   "cell_type": "markdown",
   "metadata": {},
   "source": [
    "To make programming easier, you will split this exercise into five steps:\n",
    "1. Index one file;\n",
    "2. Read the content of a folder\n",
    "3. Create a master index for all the files\n",
    "4. Use tfidf to represent the documents (novels)\n",
    "5. Compare the documents of a collection\n",
    "\n",
    "You will use dictionaries to represent the postings."
   ]
  },
  {
   "cell_type": "markdown",
   "metadata": {},
   "source": [
    "### Indexing one file"
   ]
  },
  {
   "cell_type": "markdown",
   "metadata": {},
   "source": [
    "#### Description"
   ]
  },
  {
   "cell_type": "markdown",
   "metadata": {},
   "source": [
    "<p>Write a program that reads one document <tt>file_name.txt</tt> and outputs an index file:\n",
    "            <tt>file_name.idx</tt>:\n",
    "        </p>\n",
    "        <ol>\n",
    "            <li>The index file will contain all the unique words in the document,\n",
    "                where each word is associated with the list of its positions in the document.\n",
    "            </li>\n",
    "            <li>You will represent this index as a dictionary, where the keys will be the words, and\n",
    "                the values, the lists of positions\n",
    "            </li>\n",
    "            <li>As words, you will consider all the strings of letters that you will set in lower case.\n",
    "                You will not index the rest (i.e. numbers, punctuations, or symbols).\n",
    "            </li>\n",
    "            <li>To extract the words, use Unicode regular expressions. Do not use <tt>\\w+</tt>,\n",
    "                for instance, but the Unicode equivalent.\n",
    "            </li>\n",
    "            <li>The word positions will correspond to the number of characters from the beginning of the file.\n",
    "                (The word offset from the beginning)\n",
    "            </li>\n",
    "            <li>You will use the <tt>finditer()</tt> method to find the positions of the words.\n",
    "                This will return you match objects,\n",
    "                where you will get the matches and the positions with\n",
    "                the <tt>group()</tt> and <tt>start()</tt> methods.\n",
    "            </li>\n",
    "            <li>You will use the pickle package to write your dictionary in an file,\n",
    "                see <a href=\"https://wiki.python.org/moin/UsingPickle\">https://wiki.python.org/moin/UsingPickle</a>.\n",
    "            </li>\n",
    "        </ol>"
   ]
  },
  {
   "cell_type": "markdown",
   "metadata": {},
   "source": [
    "Below is an excerpt of the index of the `bannlyst.txt` text for the words <i>gjord</i>, <i>uppklarnande</i>, and <i>stjärnor</i>. The data is stored in a dictionary:\n",
    "\n",
    "<pre>\n",
    "{...\n",
    "'gjord': [8600, 183039, 220445],\n",
    "'uppklarnande': [8617],\n",
    "'stjärnor': [8641], ...\n",
    "}\n",
    "</pre>\n",
    "where the word <i>gjord</i> occurs three times in the text at positions 8600, 183039, and 220445, <i>uppklarnande</i>, once at position 8617, and <i>stjärnor</i>, once at position 8641."
   ]
  },
  {
   "cell_type": "markdown",
   "metadata": {},
   "source": [
    "#### Writing a tokenizer "
   ]
  },
  {
   "cell_type": "markdown",
   "metadata": {},
   "source": [
    "Write a Unicode regular expression to find words defined as sequences of letters."
   ]
  },
  {
   "cell_type": "code",
   "execution_count": 3,
   "metadata": {},
   "outputs": [],
   "source": [
    "# Write your regex here\n",
    "regex = r\"\\p{L}+\""
   ]
  },
  {
   "cell_type": "code",
   "execution_count": 4,
   "metadata": {},
   "outputs": [
    {
     "data": {
      "text/plain": [
       "['En',\n",
       " 'gång',\n",
       " 'hade',\n",
       " 'de',\n",
       " 'på',\n",
       " 'Mårbacka',\n",
       " 'en',\n",
       " 'barnpiga',\n",
       " 'som',\n",
       " 'hette',\n",
       " 'Back',\n",
       " 'Kajsa']"
      ]
     },
     "execution_count": 4,
     "metadata": {},
     "output_type": "execute_result"
    }
   ],
   "source": [
    "re.findall(regex, 'En gång hade de på Mårbacka en barnpiga, som hette Back-Kajsa')"
   ]
  },
  {
   "cell_type": "markdown",
   "metadata": {},
   "source": [
    "Using `regex`, write `tokenize(text)` function to tokenize a text. Return their positions."
   ]
  },
  {
   "cell_type": "code",
   "execution_count": 5,
   "metadata": {},
   "outputs": [],
   "source": [
    "# Write your code here\n",
    "def tokenize(text: str):\n",
    "    return re.finditer(regex, text)"
   ]
  },
  {
   "cell_type": "code",
   "execution_count": 6,
   "metadata": {},
   "outputs": [
    {
     "data": {
      "text/plain": [
       "[<regex.Match object; span=(0, 2), match='En'>,\n",
       " <regex.Match object; span=(3, 7), match='gång'>,\n",
       " <regex.Match object; span=(8, 12), match='hade'>,\n",
       " <regex.Match object; span=(13, 15), match='de'>,\n",
       " <regex.Match object; span=(16, 18), match='på'>,\n",
       " <regex.Match object; span=(19, 27), match='Mårbacka'>,\n",
       " <regex.Match object; span=(28, 30), match='en'>,\n",
       " <regex.Match object; span=(31, 39), match='barnpiga'>,\n",
       " <regex.Match object; span=(41, 44), match='som'>,\n",
       " <regex.Match object; span=(45, 50), match='hette'>,\n",
       " <regex.Match object; span=(51, 55), match='Back'>,\n",
       " <regex.Match object; span=(56, 61), match='Kajsa'>]"
      ]
     },
     "execution_count": 6,
     "metadata": {},
     "output_type": "execute_result"
    }
   ],
   "source": [
    "tokens = tokenize('En gång hade de på Mårbacka en barnpiga, som hette Back-Kajsa.')\n",
    "list(tokens)"
   ]
  },
  {
   "cell_type": "markdown",
   "metadata": {},
   "source": [
    "#### Extracting indices"
   ]
  },
  {
   "cell_type": "markdown",
   "metadata": {},
   "source": [
    "Write a `text_to_idx(words)` function to extract the indices from the list of tokens (words). Return a dictionary, where the keys will be the tokens (words), and the values a list of positions."
   ]
  },
  {
   "cell_type": "code",
   "execution_count": 7,
   "metadata": {},
   "outputs": [],
   "source": [
    "# Write your code here\n",
    "def text_to_idx(tokens):\n",
    "    indexing = {}\n",
    "    for token in tokens:\n",
    "        word = token.group()\n",
    "        if word in indexing:\n",
    "            indexing[word].append(token.start())\n",
    "        else:\n",
    "            indexing[word] = [token.start()]\n",
    "    return indexing\n"
   ]
  },
  {
   "cell_type": "code",
   "execution_count": 8,
   "metadata": {},
   "outputs": [
    {
     "data": {
      "text/plain": [
       "{'en': [0, 28],\n",
       " 'gång': [3],\n",
       " 'hade': [8],\n",
       " 'de': [13],\n",
       " 'på': [16],\n",
       " 'mårbacka': [19],\n",
       " 'barnpiga': [31],\n",
       " 'som': [41],\n",
       " 'hette': [45],\n",
       " 'back': [51],\n",
       " 'kajsa': [56]}"
      ]
     },
     "execution_count": 8,
     "metadata": {},
     "output_type": "execute_result"
    }
   ],
   "source": [
    "tokens = tokenize('En gång hade de på Mårbacka en barnpiga, som hette Back-Kajsa.'.lower().strip())\n",
    "text_to_idx(tokens)"
   ]
  },
  {
   "cell_type": "markdown",
   "metadata": {},
   "source": [
    "#### Reading one file"
   ]
  },
  {
   "cell_type": "markdown",
   "metadata": {},
   "source": [
    "Read one file, _Mårbacka_, `marbacka.txt`, set it in lowercase, tokenize it, and index it. Call this index `idx`"
   ]
  },
  {
   "cell_type": "code",
   "execution_count": 9,
   "metadata": {},
   "outputs": [],
   "source": [
    "# Write your code here\n",
    "def read_file(filename):\n",
    "    return \" \".join(open(\"Selma/\" + filename).read().lower().strip().split())\n",
    "def getIdx(filename):\n",
    "    file_string = read_file(filename)\n",
    "    tokens = tokenize(file_string)\n",
    "    idx = text_to_idx(tokens)\n",
    "    return idx\n",
    "idx = getIdx(\"marbacka.txt\")\n"
   ]
  },
  {
   "cell_type": "code",
   "execution_count": 10,
   "metadata": {},
   "outputs": [
    {
     "data": {
      "text/plain": [
       "[15,\n",
       " 123,\n",
       " 735,\n",
       " 1681,\n",
       " 2561,\n",
       " 3303,\n",
       " 15056,\n",
       " 15343,\n",
       " 27680,\n",
       " 41980,\n",
       " 48896,\n",
       " 50173,\n",
       " 51812,\n",
       " 59854,\n",
       " 63064,\n",
       " 64583,\n",
       " 66840,\n",
       " 66988,\n",
       " 67456,\n",
       " 67480,\n",
       " 68884,\n",
       " 70975,\n",
       " 71745,\n",
       " 73788,\n",
       " 73896,\n",
       " 74254,\n",
       " 76241,\n",
       " 76514,\n",
       " 76768,\n",
       " 77138,\n",
       " 77415,\n",
       " 77563,\n",
       " 78192,\n",
       " 80210,\n",
       " 81394,\n",
       " 81614,\n",
       " 83961,\n",
       " 84381,\n",
       " 84844,\n",
       " 89410,\n",
       " 96628,\n",
       " 98165,\n",
       " 99980,\n",
       " 104554,\n",
       " 104788,\n",
       " 105210,\n",
       " 108188,\n",
       " 108610,\n",
       " 112305,\n",
       " 113183,\n",
       " 114452,\n",
       " 115036,\n",
       " 115285,\n",
       " 115818,\n",
       " 116007,\n",
       " 121314,\n",
       " 124223,\n",
       " 125803,\n",
       " 125935,\n",
       " 128139,\n",
       " 130346,\n",
       " 131290,\n",
       " 132176,\n",
       " 136253,\n",
       " 136525,\n",
       " 137208,\n",
       " 138524,\n",
       " 140032,\n",
       " 141624,\n",
       " 146057,\n",
       " 150738,\n",
       " 153566,\n",
       " 154367,\n",
       " 154665,\n",
       " 155111,\n",
       " 155627,\n",
       " 157323,\n",
       " 159025,\n",
       " 159313,\n",
       " 160361,\n",
       " 161279,\n",
       " 165029,\n",
       " 167486,\n",
       " 167697,\n",
       " 168271,\n",
       " 169489,\n",
       " 171834,\n",
       " 181146,\n",
       " 181525,\n",
       " 185451,\n",
       " 188611,\n",
       " 190068,\n",
       " 190178,\n",
       " 192239,\n",
       " 195726,\n",
       " 201564,\n",
       " 205342,\n",
       " 206788,\n",
       " 207378,\n",
       " 208866,\n",
       " 209517,\n",
       " 216430,\n",
       " 218882,\n",
       " 220338,\n",
       " 220477,\n",
       " 220822,\n",
       " 221155,\n",
       " 223126,\n",
       " 228409,\n",
       " 228499,\n",
       " 229683,\n",
       " 230351,\n",
       " 231037,\n",
       " 233315,\n",
       " 235077,\n",
       " 235832,\n",
       " 239039,\n",
       " 240749,\n",
       " 241209,\n",
       " 241783,\n",
       " 241878,\n",
       " 243676,\n",
       " 248710,\n",
       " 250101,\n",
       " 250722,\n",
       " 255151,\n",
       " 259019,\n",
       " 260384,\n",
       " 261154,\n",
       " 262622,\n",
       " 265398,\n",
       " 268501,\n",
       " 268853,\n",
       " 269407,\n",
       " 269877,\n",
       " 270613,\n",
       " 271283,\n",
       " 272181,\n",
       " 273795,\n",
       " 274371,\n",
       " 274912,\n",
       " 276108,\n",
       " 291269,\n",
       " 298346,\n",
       " 304840,\n",
       " 306063,\n",
       " 306520,\n",
       " 306695,\n",
       " 306877,\n",
       " 307115,\n",
       " 310398,\n",
       " 316013,\n",
       " 319694,\n",
       " 320424,\n",
       " 326621,\n",
       " 326936,\n",
       " 327442,\n",
       " 328897,\n",
       " 330110,\n",
       " 335936,\n",
       " 338958,\n",
       " 347028,\n",
       " 347721,\n",
       " 348411,\n",
       " 348550,\n",
       " 349055,\n",
       " 349329,\n",
       " 349728,\n",
       " 352545,\n",
       " 352781,\n",
       " 354678,\n",
       " 354905,\n",
       " 355151,\n",
       " 355883,\n",
       " 356771,\n",
       " 357826,\n",
       " 358855,\n",
       " 360444,\n",
       " 362004,\n",
       " 362793,\n",
       " 363372,\n",
       " 365266,\n",
       " 365597,\n",
       " 366050,\n",
       " 367183,\n",
       " 367788,\n",
       " 372029,\n",
       " 375388,\n",
       " 377112,\n",
       " 377920]"
      ]
     },
     "execution_count": 10,
     "metadata": {},
     "output_type": "execute_result"
    }
   ],
   "source": [
    "idx['mårbacka']"
   ]
  },
  {
   "cell_type": "markdown",
   "metadata": {},
   "source": [
    "#### Saving the index"
   ]
  },
  {
   "cell_type": "markdown",
   "metadata": {},
   "source": [
    "Save your index in a file so that you can reuse it. Use the pickle module."
   ]
  },
  {
   "cell_type": "code",
   "execution_count": 11,
   "metadata": {},
   "outputs": [],
   "source": [
    "# Write your code here\n",
    "pickle.dump(idx, open(\"SelmaIndexed/marbacka.idx\", \"wb\"))"
   ]
  },
  {
   "cell_type": "markdown",
   "metadata": {},
   "source": [
    "Read back your file and store the content in `idx`"
   ]
  },
  {
   "cell_type": "code",
   "execution_count": 12,
   "metadata": {},
   "outputs": [],
   "source": [
    "# Write your code here\n",
    "idx_2 = pickle.load(open(\"SelmaIndexed/marbacka.idx\", \"rb\"))"
   ]
  },
  {
   "cell_type": "code",
   "execution_count": 13,
   "metadata": {},
   "outputs": [
    {
     "data": {
      "text/plain": [
       "[15,\n",
       " 123,\n",
       " 735,\n",
       " 1681,\n",
       " 2561,\n",
       " 3303,\n",
       " 15056,\n",
       " 15343,\n",
       " 27680,\n",
       " 41980,\n",
       " 48896,\n",
       " 50173,\n",
       " 51812,\n",
       " 59854,\n",
       " 63064,\n",
       " 64583,\n",
       " 66840,\n",
       " 66988,\n",
       " 67456,\n",
       " 67480,\n",
       " 68884,\n",
       " 70975,\n",
       " 71745,\n",
       " 73788,\n",
       " 73896,\n",
       " 74254,\n",
       " 76241,\n",
       " 76514,\n",
       " 76768,\n",
       " 77138,\n",
       " 77415,\n",
       " 77563,\n",
       " 78192,\n",
       " 80210,\n",
       " 81394,\n",
       " 81614,\n",
       " 83961,\n",
       " 84381,\n",
       " 84844,\n",
       " 89410,\n",
       " 96628,\n",
       " 98165,\n",
       " 99980,\n",
       " 104554,\n",
       " 104788,\n",
       " 105210,\n",
       " 108188,\n",
       " 108610,\n",
       " 112305,\n",
       " 113183,\n",
       " 114452,\n",
       " 115036,\n",
       " 115285,\n",
       " 115818,\n",
       " 116007,\n",
       " 121314,\n",
       " 124223,\n",
       " 125803,\n",
       " 125935,\n",
       " 128139,\n",
       " 130346,\n",
       " 131290,\n",
       " 132176,\n",
       " 136253,\n",
       " 136525,\n",
       " 137208,\n",
       " 138524,\n",
       " 140032,\n",
       " 141624,\n",
       " 146057,\n",
       " 150738,\n",
       " 153566,\n",
       " 154367,\n",
       " 154665,\n",
       " 155111,\n",
       " 155627,\n",
       " 157323,\n",
       " 159025,\n",
       " 159313,\n",
       " 160361,\n",
       " 161279,\n",
       " 165029,\n",
       " 167486,\n",
       " 167697,\n",
       " 168271,\n",
       " 169489,\n",
       " 171834,\n",
       " 181146,\n",
       " 181525,\n",
       " 185451,\n",
       " 188611,\n",
       " 190068,\n",
       " 190178,\n",
       " 192239,\n",
       " 195726,\n",
       " 201564,\n",
       " 205342,\n",
       " 206788,\n",
       " 207378,\n",
       " 208866,\n",
       " 209517,\n",
       " 216430,\n",
       " 218882,\n",
       " 220338,\n",
       " 220477,\n",
       " 220822,\n",
       " 221155,\n",
       " 223126,\n",
       " 228409,\n",
       " 228499,\n",
       " 229683,\n",
       " 230351,\n",
       " 231037,\n",
       " 233315,\n",
       " 235077,\n",
       " 235832,\n",
       " 239039,\n",
       " 240749,\n",
       " 241209,\n",
       " 241783,\n",
       " 241878,\n",
       " 243676,\n",
       " 248710,\n",
       " 250101,\n",
       " 250722,\n",
       " 255151,\n",
       " 259019,\n",
       " 260384,\n",
       " 261154,\n",
       " 262622,\n",
       " 265398,\n",
       " 268501,\n",
       " 268853,\n",
       " 269407,\n",
       " 269877,\n",
       " 270613,\n",
       " 271283,\n",
       " 272181,\n",
       " 273795,\n",
       " 274371,\n",
       " 274912,\n",
       " 276108,\n",
       " 291269,\n",
       " 298346,\n",
       " 304840,\n",
       " 306063,\n",
       " 306520,\n",
       " 306695,\n",
       " 306877,\n",
       " 307115,\n",
       " 310398,\n",
       " 316013,\n",
       " 319694,\n",
       " 320424,\n",
       " 326621,\n",
       " 326936,\n",
       " 327442,\n",
       " 328897,\n",
       " 330110,\n",
       " 335936,\n",
       " 338958,\n",
       " 347028,\n",
       " 347721,\n",
       " 348411,\n",
       " 348550,\n",
       " 349055,\n",
       " 349329,\n",
       " 349728,\n",
       " 352545,\n",
       " 352781,\n",
       " 354678,\n",
       " 354905,\n",
       " 355151,\n",
       " 355883,\n",
       " 356771,\n",
       " 357826,\n",
       " 358855,\n",
       " 360444,\n",
       " 362004,\n",
       " 362793,\n",
       " 363372,\n",
       " 365266,\n",
       " 365597,\n",
       " 366050,\n",
       " 367183,\n",
       " 367788,\n",
       " 372029,\n",
       " 375388,\n",
       " 377112,\n",
       " 377920]"
      ]
     },
     "execution_count": 13,
     "metadata": {},
     "output_type": "execute_result"
    }
   ],
   "source": [
    "idx_2['mårbacka']"
   ]
  },
  {
   "cell_type": "markdown",
   "metadata": {},
   "source": [
    "### Reading the content of a folder"
   ]
  },
  {
   "cell_type": "markdown",
   "metadata": {},
   "source": [
    "Write a `get_files(dir, suffix)` function that reads all the files in a folder with a specific `suffix` (txt). You will need the Python `os` package, see <a href=\"https://docs.python.org/3/library/os.html\">https://docs.python.org/3/library/os.html</a>. You will return the file names in a list."
   ]
  },
  {
   "cell_type": "markdown",
   "metadata": {},
   "source": [
    "You can reuse this function:"
   ]
  },
  {
   "cell_type": "code",
   "execution_count": 14,
   "metadata": {},
   "outputs": [],
   "source": [
    "def get_files(dir, suffix):\n",
    "    \"\"\"\n",
    "    Returns all the files in a folder ending with suffix\n",
    "    :param dir:\n",
    "    :param suffix:\n",
    "    :return: the list of file names\n",
    "    \"\"\"\n",
    "    files = []\n",
    "    for file in os.listdir(dir):\n",
    "        if file.endswith(suffix):\n",
    "            files.append(file)\n",
    "    return files"
   ]
  },
  {
   "cell_type": "code",
   "execution_count": 15,
   "metadata": {},
   "outputs": [
    {
     "data": {
      "text/plain": [
       "['bannlyst.txt',\n",
       " 'gosta.txt',\n",
       " 'herrgard.txt',\n",
       " 'jerusalem.txt',\n",
       " 'kejsaren.txt',\n",
       " 'marbacka.txt',\n",
       " 'nils.txt',\n",
       " 'osynliga.txt',\n",
       " 'troll.txt']"
      ]
     },
     "execution_count": 15,
     "metadata": {},
     "output_type": "execute_result"
    }
   ],
   "source": [
    "# Write your code here\n",
    "get_files(\"Selma\", \"txt\")"
   ]
  },
  {
   "cell_type": "markdown",
   "metadata": {},
   "source": [
    "### Creating a master index"
   ]
  },
  {
   "cell_type": "markdown",
   "metadata": {},
   "source": [
    "Complete your program with the creation of master index, where you will associate each word of the corpus with the files, where it occur and its positions: a posting list\n",
    "Below is an except of the master index with the words <i>samlar</i> and <i>ände</i>:"
   ]
  },
  {
   "cell_type": "code",
   "execution_count": 16,
   "metadata": {},
   "outputs": [
    {
     "data": {
      "text/plain": [
       "{'samlar': {'troll.txt': [641880, 654233],\n",
       "  'nils.txt': [51805, 118943],\n",
       "  'osynliga.txt': [399121],\n",
       "  'gosta.txt': [313784, 409998, 538165]},\n",
       " 'ände': {'troll.txt': [39562, 650112],\n",
       "  'kejsaren.txt': [50171],\n",
       "  'marbacka.txt': [370324],\n",
       "  'nils.txt': [1794],\n",
       "  'osynliga.txt': [272144]}}"
      ]
     },
     "execution_count": 16,
     "metadata": {},
     "output_type": "execute_result"
    }
   ],
   "source": [
    "{'samlar':\n",
    "            {'troll.txt': [641880, 654233],\n",
    "            'nils.txt': [51805, 118943],\n",
    "            'osynliga.txt': [399121],\n",
    "            'gosta.txt': [313784, 409998, 538165]},\n",
    " 'ände':\n",
    "            {'troll.txt': [39562, 650112],\n",
    "            'kejsaren.txt': [50171],\n",
    "            'marbacka.txt': [370324],\n",
    "            'nils.txt': [1794],\n",
    "            'osynliga.txt': [272144]}\n",
    "}"
   ]
  },
  {
   "cell_type": "markdown",
   "metadata": {},
   "source": [
    "The word <i>samlar</i>, for instance, occurs three times in the gosta text at positions\n",
    "            313784, 409998, and 538165."
   ]
  },
  {
   "cell_type": "code",
   "execution_count": 17,
   "metadata": {},
   "outputs": [],
   "source": [
    "# write your code here\n",
    "index_list = map((lambda filename: [filename, getIdx(filename)]), get_files(\"Selma\", \"txt\"))\n",
    "master_index = {}\n",
    "for [filename, index] in index_list:\n",
    "    for word in index.keys():\n",
    "        if word in master_index.keys():\n",
    "            master_index[word][filename] = index[word]\n",
    "        else:\n",
    "            master_index[word] = {}\n",
    "            master_index[word][filename] = index[word]\n",
    "\n",
    "            \n",
    "        "
   ]
  },
  {
   "cell_type": "code",
   "execution_count": 18,
   "metadata": {},
   "outputs": [
    {
     "data": {
      "text/plain": [
       "{'gosta.txt': [311889, 407517, 535099],\n",
       " 'nils.txt': [51388, 118292],\n",
       " 'osynliga.txt': [397432],\n",
       " 'troll.txt': [638950, 651238]}"
      ]
     },
     "execution_count": 18,
     "metadata": {},
     "output_type": "execute_result"
    }
   ],
   "source": [
    "master_index['samlar']"
   ]
  },
  {
   "cell_type": "code",
   "execution_count": 19,
   "metadata": {},
   "outputs": [
    {
     "data": {
      "text/plain": [
       "{'marbacka.txt': [15,\n",
       "  123,\n",
       "  735,\n",
       "  1681,\n",
       "  2561,\n",
       "  3303,\n",
       "  15056,\n",
       "  15343,\n",
       "  27680,\n",
       "  41980,\n",
       "  48896,\n",
       "  50173,\n",
       "  51812,\n",
       "  59854,\n",
       "  63064,\n",
       "  64583,\n",
       "  66840,\n",
       "  66988,\n",
       "  67456,\n",
       "  67480,\n",
       "  68884,\n",
       "  70975,\n",
       "  71745,\n",
       "  73788,\n",
       "  73896,\n",
       "  74254,\n",
       "  76241,\n",
       "  76514,\n",
       "  76768,\n",
       "  77138,\n",
       "  77415,\n",
       "  77563,\n",
       "  78192,\n",
       "  80210,\n",
       "  81394,\n",
       "  81614,\n",
       "  83961,\n",
       "  84381,\n",
       "  84844,\n",
       "  89410,\n",
       "  96628,\n",
       "  98165,\n",
       "  99980,\n",
       "  104554,\n",
       "  104788,\n",
       "  105210,\n",
       "  108188,\n",
       "  108610,\n",
       "  112305,\n",
       "  113183,\n",
       "  114452,\n",
       "  115036,\n",
       "  115285,\n",
       "  115818,\n",
       "  116007,\n",
       "  121314,\n",
       "  124223,\n",
       "  125803,\n",
       "  125935,\n",
       "  128139,\n",
       "  130346,\n",
       "  131290,\n",
       "  132176,\n",
       "  136253,\n",
       "  136525,\n",
       "  137208,\n",
       "  138524,\n",
       "  140032,\n",
       "  141624,\n",
       "  146057,\n",
       "  150738,\n",
       "  153566,\n",
       "  154367,\n",
       "  154665,\n",
       "  155111,\n",
       "  155627,\n",
       "  157323,\n",
       "  159025,\n",
       "  159313,\n",
       "  160361,\n",
       "  161279,\n",
       "  165029,\n",
       "  167486,\n",
       "  167697,\n",
       "  168271,\n",
       "  169489,\n",
       "  171834,\n",
       "  181146,\n",
       "  181525,\n",
       "  185451,\n",
       "  188611,\n",
       "  190068,\n",
       "  190178,\n",
       "  192239,\n",
       "  195726,\n",
       "  201564,\n",
       "  205342,\n",
       "  206788,\n",
       "  207378,\n",
       "  208866,\n",
       "  209517,\n",
       "  216430,\n",
       "  218882,\n",
       "  220338,\n",
       "  220477,\n",
       "  220822,\n",
       "  221155,\n",
       "  223126,\n",
       "  228409,\n",
       "  228499,\n",
       "  229683,\n",
       "  230351,\n",
       "  231037,\n",
       "  233315,\n",
       "  235077,\n",
       "  235832,\n",
       "  239039,\n",
       "  240749,\n",
       "  241209,\n",
       "  241783,\n",
       "  241878,\n",
       "  243676,\n",
       "  248710,\n",
       "  250101,\n",
       "  250722,\n",
       "  255151,\n",
       "  259019,\n",
       "  260384,\n",
       "  261154,\n",
       "  262622,\n",
       "  265398,\n",
       "  268501,\n",
       "  268853,\n",
       "  269407,\n",
       "  269877,\n",
       "  270613,\n",
       "  271283,\n",
       "  272181,\n",
       "  273795,\n",
       "  274371,\n",
       "  274912,\n",
       "  276108,\n",
       "  291269,\n",
       "  298346,\n",
       "  304840,\n",
       "  306063,\n",
       "  306520,\n",
       "  306695,\n",
       "  306877,\n",
       "  307115,\n",
       "  310398,\n",
       "  316013,\n",
       "  319694,\n",
       "  320424,\n",
       "  326621,\n",
       "  326936,\n",
       "  327442,\n",
       "  328897,\n",
       "  330110,\n",
       "  335936,\n",
       "  338958,\n",
       "  347028,\n",
       "  347721,\n",
       "  348411,\n",
       "  348550,\n",
       "  349055,\n",
       "  349329,\n",
       "  349728,\n",
       "  352545,\n",
       "  352781,\n",
       "  354678,\n",
       "  354905,\n",
       "  355151,\n",
       "  355883,\n",
       "  356771,\n",
       "  357826,\n",
       "  358855,\n",
       "  360444,\n",
       "  362004,\n",
       "  362793,\n",
       "  363372,\n",
       "  365266,\n",
       "  365597,\n",
       "  366050,\n",
       "  367183,\n",
       "  367788,\n",
       "  372029,\n",
       "  375388,\n",
       "  377112,\n",
       "  377920],\n",
       " 'nils.txt': [987918],\n",
       " 'troll.txt': [224993, 385659, 390966]}"
      ]
     },
     "execution_count": 19,
     "metadata": {},
     "output_type": "execute_result"
    }
   ],
   "source": [
    "master_index['mårbacka']"
   ]
  },
  {
   "cell_type": "markdown",
   "metadata": {},
   "source": [
    "Save your master index in a file and read it again"
   ]
  },
  {
   "cell_type": "code",
   "execution_count": 20,
   "metadata": {},
   "outputs": [],
   "source": [
    "# Write your code here\n",
    "pickle.dump(master_index, open(\"master_index.idx\", \"wb\"))\n",
    "master_index = pickle.load(open(\"master_index.idx\", \"rb\"))"
   ]
  },
  {
   "cell_type": "code",
   "execution_count": 21,
   "metadata": {},
   "outputs": [
    {
     "data": {
      "text/plain": [
       "{'gosta.txt': [311889, 407517, 535099],\n",
       " 'nils.txt': [51388, 118292],\n",
       " 'osynliga.txt': [397432],\n",
       " 'troll.txt': [638950, 651238]}"
      ]
     },
     "execution_count": 21,
     "metadata": {},
     "output_type": "execute_result"
    }
   ],
   "source": [
    "master_index['samlar']"
   ]
  },
  {
   "cell_type": "markdown",
   "metadata": {},
   "source": [
    "#### Concordances"
   ]
  },
  {
   "cell_type": "markdown",
   "metadata": {},
   "source": [
    "Write a `concordance(word, master_index, window)` function to extract the concordances of a `word` within a window of `window` characters"
   ]
  },
  {
   "cell_type": "code",
   "execution_count": 22,
   "metadata": {},
   "outputs": [],
   "source": [
    "# Write your code here\n",
    "def concordance(word, master_index, window):\n",
    "    result = {}\n",
    "    for file in master_index[word].keys():\n",
    "        file_string = read_file(file)\n",
    "        result[file] = []\n",
    "        for start in master_index[word][file]:\n",
    "            result[file].append(file_string[max(start-window, 0):start+window])\n",
    "    return result\n",
    "\n"
   ]
  },
  {
   "cell_type": "code",
   "execution_count": 23,
   "metadata": {},
   "outputs": [
    {
     "data": {
      "text/plain": [
       "{'gosta.txt': ['om ligger nära borg, och samlar ihop ett litet mid',\n",
       "  ' lika förstämda. men hon samlar upp allt detta som',\n",
       "  'an ensam i livet. därmed samlar han korten tillhop'],\n",
       " 'nils.txt': [' bara, att du i all hast samlar ihop så mycket bos',\n",
       "  'ar stannat hemma, och nu samlar de sig för att int'],\n",
       " 'osynliga.txt': [' till höger i kärran och samlar just ihop tömmarna'],\n",
       " 'troll.txt': ['en örtkunnig läkare, som samlar in markens växter ',\n",
       "  'älper dem, och medan hon samlar och handlar för de']}"
      ]
     },
     "execution_count": 23,
     "metadata": {},
     "output_type": "execute_result"
    }
   ],
   "source": [
    "concordance('samlar', master_index, 25)"
   ]
  },
  {
   "cell_type": "markdown",
   "metadata": {},
   "source": [
    "### Representing Documents with tf-idf"
   ]
  },
  {
   "cell_type": "markdown",
   "metadata": {},
   "source": [
    "Once you have created the index, you will represent each document in your corpus as a dictionary. The keys of these dictionaries will be the words and you will define the value of a word with the tf-idf metric: \n",
    "1. Read the description of the tf-idf measure on Wikipedia (<a href=\"https://en.wikipedia.org/wiki/Tf%E2%80%93idf\">https://en.wikipedia.org/wiki/Tf-idf</a>)\n",
    "2. After reading the description, you probably realized that there are multiple definitions of tf-idf. In this assignment, \n",
    " * Tf will be the relative frequency of the term in the document and \n",
    " * idf, the logarithm base 10 of the inverse document frequency.\n",
    "        \n",
    "You have below the tf-idf values for a few words. In our example, the word <i>gås</i> has the value 0 in bannlyst.txt and the value 0.000101001964 in nils.txt\n",
    "\n",
    "<pre>\n",
    "troll.txt\n",
    "\tkänna\t 0.0\n",
    "\tgås\t 0.0\n",
    "\tnils\t 2.148161748868631e-06\n",
    "\tet\t 0.0\n",
    "kejsaren.txt\n",
    "\tkänna\t 0.0\n",
    "\tgås\t 0.0\n",
    "\tnils\t 8.08284798629935e-06\n",
    "\tet\t 8.273225429362848e-05\n",
    "marbacka.txt\n",
    "\tkänna\t 0.0\n",
    "\tgås\t 0.0\n",
    "\tnils\t 7.582276564686669e-06\n",
    "\tet\t 9.70107989686256e-06\n",
    "herrgard.txt\n",
    "\tkänna\t 0.0\n",
    "\tgås\t 0.0\n",
    "\tnils\t 0.0\n",
    "\tet\t 0.0\n",
    "nils.txt\n",
    "\tkänna\t 0.0\n",
    "\tgås\t 0.00010100196417506702\n",
    "\tnils\t 0.00010164426900380124\n",
    "\tet\t 0.0\n",
    "osynliga.txt\n",
    "\tkänna\t 0.0\n",
    "\tgås\t 0.0\n",
    "\tnils\t 0.0\n",
    "\tet\t 0.0\n",
    "jerusalem.txt\n",
    "\tkänna\t 0.0\n",
    "\tgås\t 0.0\n",
    "\tnils\t 4.968292117670952e-06\n",
    "\tet\t 0.0\n",
    "bannlyst.txt\n",
    "\tkänna\t 0.0\n",
    "\tgås\t 0.0\n",
    "\tnils\t 0.0\n",
    "\tet\t 0.0\n",
    "gosta.txt\n",
    "\tkänna\t 0.0\n",
    "\tgås\t 0.0\n",
    "\tnils\t 0.0\n",
    "\tet\t 0.0\n",
    "</pre>"
   ]
  },
  {
   "cell_type": "markdown",
   "metadata": {},
   "source": [
    "Conceptually, the tf-idf representation is a vector. In your program, you will keep this idea and use all the words in the corpus as keys: Each dictionary will include all the words of the corpus as keys. The value of the key is then possibly 0, meaning that the word in not in the document or is in all the documents as for the word `nils` in `gosta.tx`. \n",
    "\n",
    "As further work, you may think of optimizing this part."
   ]
  },
  {
   "cell_type": "code",
   "execution_count": 24,
   "metadata": {},
   "outputs": [],
   "source": [
    "# Write your code here\n",
    "from collections import defaultdict\n",
    "selma_files = get_files(\"Selma\", \"txt\")\n",
    "words_in_document = {}\n",
    "for filename in selma_files:\n",
    "    file_string = read_file(filename)\n",
    "    words_in_document[filename] = len(list(tokenize(file_string)))\n",
    "\n",
    "tfidf = defaultdict(lambda: defaultdict(lambda: 0))\n",
    "for word in master_index.keys():\n",
    "    for file_name in selma_files:\n",
    "        tf = 0\n",
    "        idf = 0\n",
    "        if file_name in master_index[word]:\n",
    "            times = len(master_index[word][file_name])\n",
    "            tf = times / words_in_document[file_name]\n",
    "            idf = math.log10(len(selma_files) / len(master_index[word]))\n",
    "        tfidf[file_name][word] = tf * idf"
   ]
  },
  {
   "cell_type": "code",
   "execution_count": 25,
   "metadata": {},
   "outputs": [
    {
     "data": {
      "text/plain": [
       "0.0"
      ]
     },
     "execution_count": 25,
     "metadata": {},
     "output_type": "execute_result"
    }
   ],
   "source": [
    "tfidf['troll.txt']['känna']"
   ]
  },
  {
   "cell_type": "code",
   "execution_count": 26,
   "metadata": {},
   "outputs": [
    {
     "data": {
      "text/plain": [
       "2.1481617488686316e-06"
      ]
     },
     "execution_count": 26,
     "metadata": {},
     "output_type": "execute_result"
    }
   ],
   "source": [
    "tfidf['troll.txt']['nils']"
   ]
  },
  {
   "cell_type": "markdown",
   "metadata": {},
   "source": [
    "### Comparing Documents"
   ]
  },
  {
   "cell_type": "markdown",
   "metadata": {},
   "source": [
    "Using the cosine similarity, compare all the pairs of documents with their tf-idf representation and present your results in a table. You will include this table in your report."
   ]
  },
  {
   "cell_type": "markdown",
   "metadata": {},
   "source": [
    "#### Cosine similarity"
   ]
  },
  {
   "cell_type": "markdown",
   "metadata": {},
   "source": [
    "Write a function computing the cosine similarity between two documents: `cosine_similarity(document1, document2)`"
   ]
  },
  {
   "cell_type": "code",
   "execution_count": 27,
   "metadata": {},
   "outputs": [
    {
     "name": "stdout",
     "output_type": "stream",
     "text": [
      "gosta.txt\n",
      "herrgard.txt\n"
     ]
    },
    {
     "data": {
      "text/plain": [
       "0.0031103994916002096"
      ]
     },
     "execution_count": 27,
     "metadata": {},
     "output_type": "execute_result"
    }
   ],
   "source": [
    "# Write your code here\n",
    "from numpy import dot\n",
    "from numpy.linalg import norm\n",
    "\n",
    "def cosine_similarity(file_name_1, file_name_2):\n",
    "    words = master_index.keys()\n",
    "    tfidf_1 = []\n",
    "    tfidf_2 = []\n",
    "    for word in words:\n",
    "        tfidf_1.append(tfidf[file_name_1][word])\n",
    "        tfidf_2.append(tfidf[file_name_2][word])\n",
    "    return dot(tfidf_1, tfidf_2) / (norm(tfidf_1) * norm(tfidf_2))\n",
    "\n",
    "print(selma_files[1])\n",
    "print(selma_files[2])\n",
    "cosine_similarity(selma_files[1], selma_files[2])"
   ]
  },
  {
   "cell_type": "markdown",
   "metadata": {},
   "source": [
    "#### Similarity matrix"
   ]
  },
  {
   "cell_type": "markdown",
   "metadata": {},
   "source": [
    "Compute the similarity matrix between the documents of the corpus. While computing the similarities, you will record the two most similar documents that you will call `most_sim_doc1` and `most_sim_doc2`."
   ]
  },
  {
   "cell_type": "code",
   "execution_count": 28,
   "metadata": {},
   "outputs": [
    {
     "name": "stdout",
     "output_type": "stream",
     "text": [
      "matrix       \tbannlyst.txt\tgosta.txt\therrgard.txt\tjerusalem.txt\tkejsaren.txt\tmarbacka.txt\tnils.txt\tosynliga.txt\ttroll.txt\n",
      "bannlyst.txt \t1.0         \t0.049    \t0.0009      \t0.0065       \t0.024       \t0.0368      \t0.051   \t0.0521      \t0.0886   \n",
      "gosta.txt    \t0.049       \t1.0      \t0.0031      \t0.0043       \t0.048       \t0.0802      \t0.1048  \t0.1248      \t0.1957   \n",
      "herrgard.txt \t0.0009      \t0.0031   \t1.0         \t0.3707       \t0.0007      \t0.0036      \t0.0051  \t0.0048      \t0.0041   \n",
      "jerusalem.txt\t0.0065      \t0.0043   \t0.3707      \t1.0          \t0.0018      \t0.0049      \t0.0045  \t0.0283      \t0.0071   \n",
      "kejsaren.txt \t0.024       \t0.048    \t0.0007      \t0.0018       \t1.0         \t0.0711      \t0.0497  \t0.0511      \t0.1813   \n",
      "marbacka.txt \t0.0368      \t0.0802   \t0.0036      \t0.0049       \t0.0711      \t1.0         \t0.0847  \t0.0932      \t0.1472   \n",
      "nils.txt     \t0.051       \t0.1048   \t0.0051      \t0.0045       \t0.0497      \t0.0847      \t1.0     \t0.1106      \t0.1885   \n",
      "osynliga.txt \t0.0521      \t0.1248   \t0.0048      \t0.0283       \t0.0511      \t0.0932      \t0.1106  \t1.0         \t0.1926   \n",
      "troll.txt    \t0.0886      \t0.1957   \t0.0041      \t0.0071       \t0.1813      \t0.1472      \t0.1885  \t0.1926      \t1.0      \n"
     ]
    }
   ],
   "source": [
    "import numpy as np\n",
    "# Write your code here\n",
    "matrix = [[\"matrix\", *selma_files]]\n",
    "for file_1 in selma_files:\n",
    "    row = [file_1]\n",
    "    for file_2 in selma_files:\n",
    "        row.append(round(cosine_similarity(file_1, file_2), 4))\n",
    "    matrix.append(row)\n",
    "\n",
    "s = [[str(e) for e in row] for row in matrix]\n",
    "lens = [max(map(len, col)) for col in zip(*s)]\n",
    "fmt = '\\t'.join('{{:{}}}'.format(x) for x in lens)\n",
    "table = [fmt.format(*row) for row in s]\n",
    "print('\\n'.join(table))\n",
    "\n",
    "most_sim_doc1 = \"\"\n",
    "most_sim_doc2 = \"\"\n",
    "max_similarity = 0\n",
    "for i in range(0, len(matrix)):\n",
    "    for j in range (0, len(matrix[i])):\n",
    "        if i == j or i == 0 or j == 0:\n",
    "            next\n",
    "        elif matrix[i][j] > max_similarity:\n",
    "            max_similarity = matrix[i][j]\n",
    "            most_sim_doc1 = matrix[i][0]\n",
    "            most_sim_doc2 = matrix[0][j]\n",
    "        \n",
    "\n",
    "        "
   ]
  },
  {
   "cell_type": "markdown",
   "metadata": {},
   "source": [
    "Give the name of the two novels that are the most similar."
   ]
  },
  {
   "cell_type": "code",
   "execution_count": 29,
   "metadata": {},
   "outputs": [
    {
     "name": "stdout",
     "output_type": "stream",
     "text": [
      "Most similar: herrgard.txt jerusalem.txt Similarity: 0.3707\n"
     ]
    }
   ],
   "source": [
    "print(\"Most similar:\", most_sim_doc1, most_sim_doc2, \"Similarity:\", max_similarity)"
   ]
  },
  {
   "cell_type": "markdown",
   "metadata": {},
   "source": [
    "## Submission"
   ]
  },
  {
   "cell_type": "markdown",
   "metadata": {},
   "source": [
    "When you have written all the code and run all the cells, show it to one of the assistants who will pass you.\n",
    "\n",
    "In case, we do not have enough assitants, you will submit it to an automatic system. You will have more information later on this if we need it. In this case, fill in your IDs and as well as the name of the notebook."
   ]
  },
  {
   "cell_type": "code",
   "execution_count": 30,
   "metadata": {},
   "outputs": [],
   "source": [
    "STIL_ID = [\"student1\", \"student2\"] # Write your stil ids\n",
    "CURRENT_NOTEBOOK_PATH = os.path.join(os.getcwd(), \n",
    "                                     \"1-indexer_solution.ipynb\") # Write the name of your notebook"
   ]
  },
  {
   "cell_type": "markdown",
   "metadata": {},
   "source": [
    "The submission code will send your answer. It consists of the two most similar novels."
   ]
  },
  {
   "cell_type": "code",
   "execution_count": 31,
   "metadata": {},
   "outputs": [
    {
     "data": {
      "text/plain": [
       "'herrgard.txt jerusalem.txt'"
      ]
     },
     "execution_count": 31,
     "metadata": {},
     "output_type": "execute_result"
    }
   ],
   "source": [
    "ANSWER = ' '.join(sorted([most_sim_doc1, most_sim_doc2]))\n",
    "ANSWER"
   ]
  },
  {
   "cell_type": "markdown",
   "metadata": {},
   "source": [
    "Now the moment of truth:\n",
    "1. Save your notebook and\n",
    "2. Run the cells below"
   ]
  },
  {
   "cell_type": "code",
   "execution_count": 32,
   "metadata": {},
   "outputs": [],
   "source": [
    "SUBMISSION_NOTEBOOK_PATH = CURRENT_NOTEBOOK_PATH + \".submission.bz2\""
   ]
  },
  {
   "cell_type": "code",
   "execution_count": 33,
   "metadata": {},
   "outputs": [
    {
     "ename": "FileNotFoundError",
     "evalue": "[Errno 2] No such file or directory: '/mnt/c/Users/jonat/progProject/Plugg/sprak-tek/edan20/labs_2023/1-indexer_solution.ipynb'",
     "output_type": "error",
     "traceback": [
      "\u001b[0;31m---------------------------------------------------------------------------\u001b[0m",
      "\u001b[0;31mFileNotFoundError\u001b[0m                         Traceback (most recent call last)",
      "Cell \u001b[0;32mIn[33], line 6\u001b[0m\n\u001b[1;32m      4\u001b[0m \u001b[39m# Copy and compress current notebook\u001b[39;00m\n\u001b[1;32m      5\u001b[0m \u001b[39mwith\u001b[39;00m bz2\u001b[39m.\u001b[39mopen(SUBMISSION_NOTEBOOK_PATH, mode\u001b[39m=\u001b[39m\u001b[39m\"\u001b[39m\u001b[39mwb\u001b[39m\u001b[39m\"\u001b[39m) \u001b[39mas\u001b[39;00m fout:\n\u001b[0;32m----> 6\u001b[0m     \u001b[39mwith\u001b[39;00m \u001b[39mopen\u001b[39m(CURRENT_NOTEBOOK_PATH, \u001b[39m\"\u001b[39m\u001b[39mrb\u001b[39m\u001b[39m\"\u001b[39m) \u001b[39mas\u001b[39;00m fin:\n\u001b[1;32m      7\u001b[0m         fout\u001b[39m.\u001b[39mwrite(fin\u001b[39m.\u001b[39mread())\n",
      "File \u001b[0;32m~/anaconda/lib/python3.11/site-packages/IPython/core/interactiveshell.py:284\u001b[0m, in \u001b[0;36m_modified_open\u001b[0;34m(file, *args, **kwargs)\u001b[0m\n\u001b[1;32m    277\u001b[0m \u001b[39mif\u001b[39;00m file \u001b[39min\u001b[39;00m {\u001b[39m0\u001b[39m, \u001b[39m1\u001b[39m, \u001b[39m2\u001b[39m}:\n\u001b[1;32m    278\u001b[0m     \u001b[39mraise\u001b[39;00m \u001b[39mValueError\u001b[39;00m(\n\u001b[1;32m    279\u001b[0m         \u001b[39mf\u001b[39m\u001b[39m\"\u001b[39m\u001b[39mIPython won\u001b[39m\u001b[39m'\u001b[39m\u001b[39mt let you open fd=\u001b[39m\u001b[39m{\u001b[39;00mfile\u001b[39m}\u001b[39;00m\u001b[39m by default \u001b[39m\u001b[39m\"\u001b[39m\n\u001b[1;32m    280\u001b[0m         \u001b[39m\"\u001b[39m\u001b[39mas it is likely to crash IPython. If you know what you are doing, \u001b[39m\u001b[39m\"\u001b[39m\n\u001b[1;32m    281\u001b[0m         \u001b[39m\"\u001b[39m\u001b[39myou can use builtins\u001b[39m\u001b[39m'\u001b[39m\u001b[39m open.\u001b[39m\u001b[39m\"\u001b[39m\n\u001b[1;32m    282\u001b[0m     )\n\u001b[0;32m--> 284\u001b[0m \u001b[39mreturn\u001b[39;00m io_open(file, \u001b[39m*\u001b[39margs, \u001b[39m*\u001b[39m\u001b[39m*\u001b[39mkwargs)\n",
      "\u001b[0;31mFileNotFoundError\u001b[0m: [Errno 2] No such file or directory: '/mnt/c/Users/jonat/progProject/Plugg/sprak-tek/edan20/labs_2023/1-indexer_solution.ipynb'"
     ]
    }
   ],
   "source": [
    "ASSIGNMENT = 1\n",
    "API_KEY = \"f581ba347babfea0b8f2c74a3a6776a7\"\n",
    "\n",
    "# Copy and compress current notebook\n",
    "with bz2.open(SUBMISSION_NOTEBOOK_PATH, mode=\"wb\") as fout:\n",
    "    with open(CURRENT_NOTEBOOK_PATH, \"rb\") as fin:\n",
    "        fout.write(fin.read())"
   ]
  },
  {
   "cell_type": "code",
   "execution_count": null,
   "metadata": {},
   "outputs": [
    {
     "name": "stderr",
     "output_type": "stream",
     "text": [
      "/Users/pierre/opt/anaconda3/lib/python3.8/site-packages/urllib3/connectionpool.py:1013: InsecureRequestWarning: Unverified HTTPS request is being made to host 'vilde.cs.lth.se'. Adding certificate verification is strongly advised. See: https://urllib3.readthedocs.io/en/1.26.x/advanced-usage.html#ssl-warnings\n",
      "  warnings.warn(\n"
     ]
    },
    {
     "data": {
      "text/plain": [
       "{'msg': None,\n",
       " 'status': 'correct',\n",
       " 'signature': '62404b10eabf9afe5db5c548ed802ff0e102292b0da3e65ef9c9f95984c59b7e91d9ba31fe3d3359581c4ea2ec7fc4e10c243167d260681376d04ecd4f76f92c',\n",
       " 'submission_id': '222462ad-305f-47d7-9ee8-2d1c5ffd9181'}"
      ]
     },
     "execution_count": 34,
     "metadata": {},
     "output_type": "execute_result"
    }
   ],
   "source": [
    "res = requests.post(\"https://vilde.cs.lth.se/edan20checker/submit\", \n",
    "                    files={\"notebook_file\": open(SUBMISSION_NOTEBOOK_PATH, \"rb\")}, \n",
    "                    data={\n",
    "                        \"stil_id\": STIL_ID,\n",
    "                        \"assignment\": ASSIGNMENT,\n",
    "                        \"answer\": ANSWER,\n",
    "                        \"api_key\": API_KEY,\n",
    "                    },\n",
    "                   verify=False)\n",
    "\n",
    "\n",
    "# from IPython.display import display, JSON\n",
    "res.json()"
   ]
  },
  {
   "cell_type": "markdown",
   "metadata": {},
   "source": [
    "Check the `status` and be sure it is `correct`. If not, revise your code; verify that you obtained intermediate results identical to those in the notebook; and resubmit your notebook. You can submit multiple times."
   ]
  },
  {
   "cell_type": "markdown",
   "metadata": {},
   "source": [
    "<h2>Turning in your assigment</h2>"
   ]
  },
  {
   "cell_type": "markdown",
   "metadata": {},
   "source": [
    "Now your are done with the program. To complete this assignment, you will:\n",
    "1. Write a short individual report on your program, \n",
    "2. Read the text <i>Challenges in Building Large-Scale Information Retrieval Systems</i> about the history of <a href=\"https://research.google.com/people/jeff/WSDM09-keynote.pdf\">Google indexing</a> by <a href=\"https://research.google.com/pubs/jeff.html\">Jeff Dean</a> and write a short comment on it. See the details below.\n",
    "\n",
    "You will submit your report as well as your notebook (for archiving purposes) to Canvas: <https://canvas.education.lu.se/>. To write your report, you can either\n",
    "1. Write directly your text in Canvas, or\n",
    "2. Use Latex and Overleaf (<a href=\"https://www.overleaf.com/\">www.overleaf.com</a>). This will probably help you structure your text. You will then upload a PDF file in Canvas.\n",
    "\n",
    "In your report of about two pages: \n",
    "1. You will describe your indexer and comment your results; in this description, you will write the regular expression you used for the tokenization and include the similarity matrix;\n",
    "2. In Jeff Dean's document, you will identify the slide, where you have the most similar indexing technique. Please write the slide title and the slide number in your report.\n",
    "3. You will tell how your index encoding is related to what Google did.\n",
    "\n",
    "\n",
    "The submission deadline is September 15, 2023. You will have only three submission attempts. The deadline for the second and third ones are one week after you are noticed of your result."
   ]
  },
  {
   "cell_type": "markdown",
   "metadata": {},
   "source": []
  }
 ],
 "metadata": {
  "kernelspec": {
   "display_name": "Python 3 (ipykernel)",
   "language": "python",
   "name": "python3"
  },
  "language_info": {
   "codemirror_mode": {
    "name": "ipython",
    "version": 3
   },
   "file_extension": ".py",
   "mimetype": "text/x-python",
   "name": "python",
   "nbconvert_exporter": "python",
   "pygments_lexer": "ipython3",
   "version": "3.11.4"
  },
  "vscode": {
   "interpreter": {
    "hash": "b97b11a820675205aae8f1d7f2a3f22bbd3a2c30189f44042310baf5b4cd1987"
   }
  }
 },
 "nbformat": 4,
 "nbformat_minor": 4
}
